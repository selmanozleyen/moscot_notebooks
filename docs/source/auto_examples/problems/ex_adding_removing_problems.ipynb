{
  "cells": [
    {
      "cell_type": "code",
      "execution_count": null,
      "metadata": {
        "collapsed": false
      },
      "outputs": [],
      "source": [
        "%matplotlib inline"
      ]
    },
    {
      "cell_type": "markdown",
      "metadata": {},
      "source": [
        "Adding and removing problems\n============================\n"
      ]
    },
    {
      "cell_type": "markdown",
      "metadata": {},
      "source": [
        "This notebook demonstrates how to add or remove single problems.\n\nAdding a single problem can be useful for fine tuning, and is sometimes\nneeded for certain downstream functions, e.g. for\n`moscot.problems.time.TemporalProblem.compute_interpolated_distance`{.interpreted-text\nrole=\"meth\"}.\n"
      ]
    },
    {
      "cell_type": "code",
      "execution_count": null,
      "metadata": {
        "collapsed": false
      },
      "outputs": [],
      "source": [
        "from moscot.datasets import simulate_data\nfrom moscot.problems.time import TemporalProblem\n\nadata = simulate_data(n_distributions=4, key=\"day\")\nadata"
      ]
    },
    {
      "cell_type": "markdown",
      "metadata": {},
      "source": [
        "Let\\'s prepare and solve the problem.\n"
      ]
    },
    {
      "cell_type": "code",
      "execution_count": null,
      "metadata": {
        "collapsed": false
      },
      "outputs": [],
      "source": [
        "tp = TemporalProblem(adata).prepare(time_key=\"day\").solve(epsilon=1e-2)\n\nfor k in tp.problems.keys():\n    print(f\"key: {k}\", f\"solutions: {tp.problems[k].solution}\")"
      ]
    },
    {
      "cell_type": "markdown",
      "metadata": {},
      "source": [
        "Let\\'s say we now want to solve one of the problems again, for examples\nbecause the solver did not converge, or we simply want to try different\nparameters. Let\\'s say we want to try unbalancedness for the map between\nday 2 and day 3. Hence, we copy the single problem and solve it again.\n"
      ]
    },
    {
      "cell_type": "code",
      "execution_count": null,
      "metadata": {
        "collapsed": false
      },
      "outputs": [],
      "source": [
        "key = (2, 3)\nextracted_problem = tp.problems[key]\nextracted_problem = extracted_problem.solve(epsilon=1e-2, tau_a=0.95, tau_b=0.95)\nextracted_problem.solution"
      ]
    },
    {
      "cell_type": "markdown",
      "metadata": {},
      "source": [
        "Now we are happy with the solution and add the extracted problem back to\nthe `moscot.problems.time.TemporalProblem`{.interpreted-text\nrole=\"class\"} class.\n"
      ]
    },
    {
      "cell_type": "code",
      "execution_count": null,
      "metadata": {
        "collapsed": false
      },
      "outputs": [],
      "source": [
        "tp = tp.add_problem((2, 3), extracted_problem, overwrite=True)\nfor k in tp.problems.keys():\n    print(f\"key: {k}\", f\"solutions: {tp.problems[k].solution}\")"
      ]
    },
    {
      "cell_type": "markdown",
      "metadata": {},
      "source": [
        "In TODO link different\\_policies the use of different policies are\nexplained.\n"
      ]
    }
  ],
  "metadata": {
    "kernelspec": {
      "display_name": "Python 3",
      "language": "python",
      "name": "python3"
    },
    "language_info": {
      "codemirror_mode": {
        "name": "ipython",
        "version": 3
      },
      "file_extension": ".py",
      "mimetype": "text/x-python",
      "name": "python",
      "nbconvert_exporter": "python",
      "pygments_lexer": "ipython3",
      "version": "3.9.15"
    }
  },
  "nbformat": 4,
  "nbformat_minor": 0
}
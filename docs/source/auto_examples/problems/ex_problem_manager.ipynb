{
  "cells": [
    {
      "cell_type": "code",
      "execution_count": null,
      "metadata": {
        "collapsed": false
      },
      "outputs": [],
      "source": [
        "%matplotlib inline"
      ]
    },
    {
      "cell_type": "markdown",
      "metadata": {},
      "source": [
        "Using the Problem Manager\n=========================\n"
      ]
    },
    {
      "cell_type": "markdown",
      "metadata": {},
      "source": [
        "Let\\'s prepare and solve the problem. In this notebook, we will showcase\nhow to use the [ProblemManager]{.title-ref} capabilities in\n`from moscot.problems.CompoundProblem`{.interpreted-text role=\"class\"}.\nLet\\'s load one temporal dataset, with 4 time points.\n"
      ]
    },
    {
      "cell_type": "code",
      "execution_count": null,
      "metadata": {
        "collapsed": false
      },
      "outputs": [],
      "source": [
        "from moscot.datasets import hspc\nfrom moscot.problems.time import TemporalProblem\n\nadata = hspc()"
      ]
    },
    {
      "cell_type": "markdown",
      "metadata": {},
      "source": [
        "Let\\'s prepare and solve the problem.\n"
      ]
    },
    {
      "cell_type": "code",
      "execution_count": null,
      "metadata": {
        "collapsed": false
      },
      "outputs": [],
      "source": [
        "tp = TemporalProblem(adata).prepare(time_key=\"day\").solve(epsilon=1e-2)\n\nfor k in tp.problems.keys():\n    print(f\"key: {k}\", f\"solutions: {tp.problems[k].solution}\")"
      ]
    },
    {
      "cell_type": "markdown",
      "metadata": {},
      "source": [
        "Let\\'s say we now want to solve one of the problems again, because for\nexample the solver did not converge, or we simply want to try it with a\ndifferent set of parameters for the OT solver. What we need to do, is to\ncopy the single problem and solve it again.\n"
      ]
    },
    {
      "cell_type": "code",
      "execution_count": null,
      "metadata": {
        "collapsed": false
      },
      "outputs": [],
      "source": [
        "key = (2, 3)\nnew_problem = tp.problems[(2, 3)]\nnew_problem = new_problem.solve(epsilon=1e-2, tau_a=0.95, max_iterations=1e2)\nnew_problem.solution"
      ]
    },
    {
      "cell_type": "markdown",
      "metadata": {},
      "source": [
        "For example, in this case we added a [tau]{.title-ref} penalty for the\nunbalance case, resulting in a higher cost compared to the result above.\nLet\\'s add this solution to the\n`moscot.problems.time.TemporalProblem`{.interpreted-text role=\"class\"}\nclass.\n"
      ]
    },
    {
      "cell_type": "code",
      "execution_count": null,
      "metadata": {
        "collapsed": false
      },
      "outputs": [],
      "source": [
        "tp = tp.add_problem((2, 3), new_problem, overwrite=True)\nfor k in tp.problems.keys():\n    print(f\"key: {k}\", f\"solutions: {tp.problems[k].solution}\")"
      ]
    }
  ],
  "metadata": {
    "kernelspec": {
      "display_name": "Python 3",
      "language": "python",
      "name": "python3"
    },
    "language_info": {
      "codemirror_mode": {
        "name": "ipython",
        "version": 3
      },
      "file_extension": ".py",
      "mimetype": "text/x-python",
      "name": "python",
      "nbconvert_exporter": "python",
      "pygments_lexer": "ipython3",
      "version": "3.9.15"
    }
  },
  "nbformat": 4,
  "nbformat_minor": 0
}
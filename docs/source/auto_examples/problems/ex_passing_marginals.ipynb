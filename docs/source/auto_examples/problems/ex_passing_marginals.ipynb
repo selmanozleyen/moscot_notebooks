{
  "cells": [
    {
      "cell_type": "code",
      "execution_count": null,
      "metadata": {
        "collapsed": false
      },
      "outputs": [],
      "source": [
        "%matplotlib inline"
      ]
    },
    {
      "cell_type": "markdown",
      "metadata": {},
      "source": [
        "Handling marginals\n==================\n"
      ]
    },
    {
      "cell_type": "markdown",
      "metadata": {},
      "source": [
        "This notebook demonstrates how to marginals are handled.\n\nMarginals define the weight of each single cell within a distribution of\ncells. In many cases, marginals are chosen to be uniform as all cells\nare considered to be equally important. In some cases, we have prior\nknowledge to adapt the marginals. For example,\n`moscot.problems.time.TemporalProblem.score_genes_for_marginals`{.interpreted-text\nrole=\"meth\"} computes the marginals such that cells expressing\nproliferation marker genes get a higher weight as they are assumed to\nhave multiple descendants. See the TODO notebooks for a use case in the\ntemporal domain. Here, we demonstrate how to pass marginals with the\n[moscot.problems.space.AlignmentProblem]{.title-ref}. We might want to\nadapt the marginals as we know that certain cells are outliers in space,\nso they should not influence the mapping too much.\n"
      ]
    },
    {
      "cell_type": "code",
      "execution_count": null,
      "metadata": {
        "collapsed": false
      },
      "outputs": [],
      "source": [
        "from moscot.datasets import sim_align\nfrom moscot.problems.space import AlignmentProblem\n\nimport numpy as np\n\nadata = sim_align()\nadata"
      ]
    },
    {
      "cell_type": "markdown",
      "metadata": {},
      "source": [
        "If marginals are not specified, they are assumed to be uniform.\n"
      ]
    },
    {
      "cell_type": "code",
      "execution_count": null,
      "metadata": {
        "collapsed": false
      },
      "outputs": [],
      "source": [
        "ap = AlignmentProblem(adata)\nap = ap.prepare(batch_key=\"batch\", policy=\"sequential\")\nprint(ap[\"0\", \"1\"].a, ap[\"0\", \"1\"].b)"
      ]
    },
    {
      "cell_type": "markdown",
      "metadata": {},
      "source": [
        "If we want to specify the marginals, they should be passed via\n`anndata.AnnData.obs`{.interpreted-text role=\"attr\"}. Let\\'s assume, we\nwant to assign less weight to the \\\"first\\\" cell in our source\ndistribution.\n"
      ]
    },
    {
      "cell_type": "code",
      "execution_count": null,
      "metadata": {
        "collapsed": false
      },
      "outputs": [],
      "source": [
        "source_marginals = np.ones(adata.n_obs)\nsource_marginals[0] = 0.5\nadata.obs[\"source_marginals\"] = source_marginals"
      ]
    },
    {
      "cell_type": "markdown",
      "metadata": {},
      "source": [
        "Similarly, we want to assign less weight to cell \\'397-1\\' in the target\ndistribution.\n"
      ]
    },
    {
      "cell_type": "code",
      "execution_count": null,
      "metadata": {
        "collapsed": false
      },
      "outputs": [],
      "source": [
        "target_marginals = np.ones(adata.n_obs)\ntarget_marginals[np.where(adata.obs_names == \"397-1\")[0]] = 0.5\nadata.obs[\"target_marginals\"] = target_marginals"
      ]
    },
    {
      "cell_type": "code",
      "execution_count": null,
      "metadata": {
        "collapsed": false
      },
      "outputs": [],
      "source": [
        "ap2 = AlignmentProblem(adata)\nap2 = ap2.prepare(batch_key=\"batch\", a=\"source_marginals\", b=\"target_marginals\")\nprint(ap2[\"0\", \"1\"].a, ap2[\"1\", \"2\"].b)"
      ]
    },
    {
      "cell_type": "markdown",
      "metadata": {},
      "source": [
        "Note that cell [397-1]{.title-ref} belongs to batch 2, hence it never\nappears in a source distribution as we have chosen the sequential\npolicy. Thus, the value in\n[adata\\[adata.obs\\_names==\\'397-1\\'\\].obs\\[\\\"source\\_distributions\\\"\\]]{.title-ref}\nhas no effect. Similarly, the cells belonging to batch \\\"0\\\" are never\npart of a target distribution. Hence, the values in\n[adata\\[adata.obs\\[\\\"batch\\\"\\]==\\\"0\\\"\\].obs\\[\\\"target\\_marginals\\\"\\]]{.title-ref}\nare irrelevant. Also note that the scale of the marginals influences the\nconvergence criterion. Hence, we recommend normalizing the marginals to\n1. TODO See other examples for \\...\n"
      ]
    }
  ],
  "metadata": {
    "kernelspec": {
      "display_name": "Python 3",
      "language": "python",
      "name": "python3"
    },
    "language_info": {
      "codemirror_mode": {
        "name": "ipython",
        "version": 3
      },
      "file_extension": ".py",
      "mimetype": "text/x-python",
      "name": "python",
      "nbconvert_exporter": "python",
      "pygments_lexer": "ipython3",
      "version": "3.9.15"
    }
  },
  "nbformat": 4,
  "nbformat_minor": 0
}
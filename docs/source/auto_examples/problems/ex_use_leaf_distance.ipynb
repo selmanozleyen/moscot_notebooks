{
  "cells": [
    {
      "cell_type": "code",
      "execution_count": null,
      "metadata": {
        "collapsed": false
      },
      "outputs": [],
      "source": [
        "%matplotlib inline"
      ]
    },
    {
      "cell_type": "markdown",
      "metadata": {},
      "source": [
        "Passing lineage trees as cost\n=============================\n"
      ]
    },
    {
      "cell_type": "markdown",
      "metadata": {},
      "source": [
        "This notebook demonstrates how lineage trees can be passed, specifically\nuseful for the `moscot.problems.time.LineageProblem`{.interpreted-text\nrole=\"class\"}.\n\nThe `moscot.problems.time.LineageProblem`{.interpreted-text\nrole=\"class\"} requires lineage information. `moscot`{.interpreted-text\nrole=\"mod\"} allows this in three way: by passing precomputed cost\nmatrices, by passing barcodes or by passing a lineage tree as a\n`networkx.DiGraph`{.interpreted-text role=\"class\"}. In this notebook, we\nconsider the lineage tree case.\n"
      ]
    },
    {
      "cell_type": "code",
      "execution_count": null,
      "metadata": {
        "collapsed": false
      },
      "outputs": [],
      "source": [
        "from moscot.datasets import simulate_data\nfrom moscot.problems.time import LineageProblem\n\nadata = simulate_data(n_distributions=3, key=\"day\", quad_term=\"tree\")\nadata"
      ]
    },
    {
      "cell_type": "markdown",
      "metadata": {},
      "source": [
        "We assume trees to be saved in `anndata.AnnData.uns`{.interpreted-text\nrole=\"attr\"} as a dictionary.\n"
      ]
    },
    {
      "cell_type": "code",
      "execution_count": null,
      "metadata": {
        "collapsed": false
      },
      "outputs": [],
      "source": [
        "adata.uns[\"trees\"]"
      ]
    },
    {
      "cell_type": "markdown",
      "metadata": {},
      "source": [
        "Now, we can instantiate and prepare the\n`moscot.problems.time.LineageProblem`{.interpreted-text role=\"class\"} by\nspecifying the cost\n"
      ]
    },
    {
      "cell_type": "code",
      "execution_count": null,
      "metadata": {
        "collapsed": false
      },
      "outputs": [],
      "source": [
        "lp = LineageProblem(adata)\nlp = lp.prepare(time_key=\"day\", lineage_attr={\"attr\": \"uns\", \"key\": \"trees\", \"cost\": \"leaf_distance\"})"
      ]
    },
    {
      "cell_type": "markdown",
      "metadata": {},
      "source": [
        "Internally, cost matrices have been computed from the trees, according\nto the leaf distance. Let us investigate the prepared problem. First, we\nprint the first few entries of the cost matrix computed from the first\nlineage tree.\n"
      ]
    },
    {
      "cell_type": "code",
      "execution_count": null,
      "metadata": {
        "collapsed": false
      },
      "outputs": [],
      "source": [
        "lp[0, 1].x.data_src[:3, :3]"
      ]
    },
    {
      "cell_type": "markdown",
      "metadata": {},
      "source": [
        "Similarly, we investigate parts of the cost matrix created from the\nsecond tree.\n"
      ]
    },
    {
      "cell_type": "code",
      "execution_count": null,
      "metadata": {
        "collapsed": false
      },
      "outputs": [],
      "source": [
        "lp[0, 1].y.data_src[:3, :3]"
      ]
    },
    {
      "cell_type": "markdown",
      "metadata": {},
      "source": [
        "Note that the gene expression term is still saved as two point clouds.\nThe cost matrix will be computed by the backend.\n"
      ]
    },
    {
      "cell_type": "code",
      "execution_count": null,
      "metadata": {
        "collapsed": false
      },
      "outputs": [],
      "source": [
        "lp[0, 1].xy.data_src.shape, lp[0, 1].xy.data_tgt.shape"
      ]
    },
    {
      "cell_type": "markdown",
      "metadata": {},
      "source": [
        "TODO See other examples for \\...\n"
      ]
    }
  ],
  "metadata": {
    "kernelspec": {
      "display_name": "Python 3",
      "language": "python",
      "name": "python3"
    },
    "language_info": {
      "codemirror_mode": {
        "name": "ipython",
        "version": 3
      },
      "file_extension": ".py",
      "mimetype": "text/x-python",
      "name": "python",
      "nbconvert_exporter": "python",
      "pygments_lexer": "ipython3",
      "version": "3.9.15"
    }
  },
  "nbformat": 4,
  "nbformat_minor": 0
}
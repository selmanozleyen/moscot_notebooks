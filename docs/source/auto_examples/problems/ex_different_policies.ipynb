{
  "cells": [
    {
      "cell_type": "code",
      "execution_count": null,
      "metadata": {
        "collapsed": false
      },
      "outputs": [],
      "source": [
        "%matplotlib inline"
      ]
    },
    {
      "cell_type": "markdown",
      "metadata": {},
      "source": [
        "Using different policies\n========================\n"
      ]
    },
    {
      "cell_type": "markdown",
      "metadata": {},
      "source": [
        "This example shows how to use different policies.\n\nA policy is the rule which sets of transport maps are computed given\ndifferent distributions of cells.\n\nSome problem classes require a certain policy, e.g. the\n`moscot.solvers.space.MappingProblem`{.interpreted-text role=\"class\"}\nonly works with the\n`moscot.solvers._subset_policy.ExternalStarPolicy`{.interpreted-text\nrole=\"class\"} meaning that all spatial batches from the\n`anndata.AnnData`{.interpreted-text role=\"class\"} object are mapped to\nthe same single cell reference cell distribution.\n\nEach problem class has a set of valid policies. For the\n`moscot.solvers.time.LineageProblem`{.interpreted-text role=\"class\"} and\nthe `moscot.solvers.time.TemporalProblem`{.interpreted-text\nrole=\"class\"} we can choose among different policies which we\ndemonstrate below.\n"
      ]
    },
    {
      "cell_type": "code",
      "execution_count": null,
      "metadata": {
        "collapsed": false
      },
      "outputs": [],
      "source": [
        "from moscot.datasets import simulate_data\nfrom moscot.problems.time import TemporalProblem\n\nadata = simulate_data(n_distributions=8, key=\"day\")\nadata"
      ]
    },
    {
      "cell_type": "markdown",
      "metadata": {},
      "source": [
        "This simulated dataset contains single cell data across 8 time points,\ni.e. day 0-8.\n\nThe policy allows us to determine which transport maps we want to\ncompute.\n"
      ]
    },
    {
      "cell_type": "markdown",
      "metadata": {},
      "source": [
        "Different policies\n==================\n"
      ]
    },
    {
      "cell_type": "code",
      "execution_count": null,
      "metadata": {
        "collapsed": false
      },
      "outputs": [],
      "source": [
        "# In the following, we consider a few policies which can be used for the\n# :class:`moscot.solvers.time.TemporalProblem`."
      ]
    },
    {
      "cell_type": "markdown",
      "metadata": {},
      "source": [
        "Sequential policy\n=================\n"
      ]
    },
    {
      "cell_type": "markdown",
      "metadata": {},
      "source": [
        "We start with the default policy, which is the sequential policy. The\nfollowing code shows which OT problems are prepared to be solved.\n"
      ]
    },
    {
      "cell_type": "code",
      "execution_count": null,
      "metadata": {
        "collapsed": false
      },
      "outputs": [],
      "source": [
        "tp_sequential = TemporalProblem(adata)\ntp_sequential = tp_sequential.prepare(time_key=\"day\", policy=\"sequential\")\ntp_sequential.problems"
      ]
    },
    {
      "cell_type": "markdown",
      "metadata": {},
      "source": [
        "We see that all consecutive pairs of values in the\n[time\\_key]{.title-ref} column are used to create an OT problem\n"
      ]
    },
    {
      "cell_type": "markdown",
      "metadata": {},
      "source": [
        "Upper triangular policy\n=======================\n"
      ]
    },
    {
      "cell_type": "code",
      "execution_count": null,
      "metadata": {
        "collapsed": false
      },
      "outputs": [],
      "source": [
        "tp_triu = TemporalProblem(adata)\ntp_triu = tp_triu.prepare(time_key=\"day\", policy=\"triu\")\ntp_triu.problems"
      ]
    },
    {
      "cell_type": "markdown",
      "metadata": {},
      "source": [
        "Explicit policy\n===============\n"
      ]
    },
    {
      "cell_type": "code",
      "execution_count": null,
      "metadata": {
        "collapsed": false
      },
      "outputs": [],
      "source": [
        "tp_expl = TemporalProblem(adata)\ntp_expl = tp_expl.prepare(time_key=\"day\", policy=\"explicit\", subset=[(0, 1), (1, 3), (4, 9)])\ntp_expl.problems"
      ]
    },
    {
      "cell_type": "markdown",
      "metadata": {},
      "source": [
        "In TODO link other notebooks\n"
      ]
    }
  ],
  "metadata": {
    "kernelspec": {
      "display_name": "Python 3",
      "language": "python",
      "name": "python3"
    },
    "language_info": {
      "codemirror_mode": {
        "name": "ipython",
        "version": 3
      },
      "file_extension": ".py",
      "mimetype": "text/x-python",
      "name": "python",
      "nbconvert_exporter": "python",
      "pygments_lexer": "ipython3",
      "version": "3.9.15"
    }
  },
  "nbformat": 4,
  "nbformat_minor": 0
}
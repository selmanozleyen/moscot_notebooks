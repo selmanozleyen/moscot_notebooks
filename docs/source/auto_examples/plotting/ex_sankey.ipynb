{
  "cells": [
    {
      "cell_type": "code",
      "execution_count": null,
      "metadata": {
        "collapsed": false
      },
      "outputs": [],
      "source": [
        "%matplotlib inline"
      ]
    },
    {
      "cell_type": "markdown",
      "metadata": {},
      "source": [
        "Plotting Sankey diagrams\n========================\n"
      ]
    },
    {
      "cell_type": "markdown",
      "metadata": {},
      "source": [
        "In this notebook, we will showcase how to use\n`moscot.plotting.sankey`{.interpreted-text role=\"meth\"}. We use the HSPC\ndataset to demonstrate the usage.\n"
      ]
    },
    {
      "cell_type": "code",
      "execution_count": null,
      "metadata": {
        "collapsed": false
      },
      "outputs": [],
      "source": [
        "from moscot.datasets import hspc\nfrom moscot.problems.time import TemporalProblem\nimport moscot.plotting as mpl\n\nadata = hspc()"
      ]
    },
    {
      "cell_type": "markdown",
      "metadata": {},
      "source": [
        "First, we need to prepare and solve the problem. Here, we set the\n[threshold]{.title-ref} parameter to a relative high value to speed up\nconvergence at the cost of lower quality.\n"
      ]
    },
    {
      "cell_type": "code",
      "execution_count": null,
      "metadata": {
        "collapsed": false
      },
      "outputs": [],
      "source": [
        "tp = TemporalProblem(adata).prepare(time_key=\"day\").solve(epsilon=1e-2, threshold=1e-2)"
      ]
    },
    {
      "cell_type": "markdown",
      "metadata": {},
      "source": [
        "As for all plotting functionalities in moscot, we first call the method\nof the problem class, which stores the results of the computation in the\n`anndata.AnnData`{.interpreted-text role=\"class\"} instance. Let us\nassume we want to plot the Sankey diagram across all time points 2, 3,\n4, and 7. Moreover, we want the Sankey diagram to visualize flows\nbetween cell types. In general, we can visualize the flow defined by any\ncolumn in `anndata.AnnData.obs`{.interpreted-text role=\"attr\"} via the\n[source\\_groups]{.title-ref} parameter and the\n[target\\_groups]{.title-ref} parameter, respectively. In this example,\nwe are interested in descendants as opposed to ancestors, which is why\nwe choose [forward]{.title-ref} to be [True]{.title-ref}. The\ninformation required to plot the Sankey diagram is provided in\ntransition matrices, which we would obtain by [return\\_data]{.title-ref}\nto [True]{.title-ref}. Here, we are only interested in the\nvisualization.\n"
      ]
    },
    {
      "cell_type": "code",
      "execution_count": null,
      "metadata": {
        "collapsed": false
      },
      "outputs": [],
      "source": [
        "tp.sankey(source=2, target=7, source_groups=\"cell_type\", target_groups=\"cell_type\", forward=True, return_data=False)"
      ]
    },
    {
      "cell_type": "markdown",
      "metadata": {},
      "source": [
        "Having called the [sankey]{.title-ref} method of the problem instance,\nwe now pass the result to the `moscot.plotting`{.interpreted-text\nrole=\"mod\"} module. Therefore, we can either pass the\n`anndata.AnnData`{.interpreted-text role=\"class\"} instance or the\nproblem instance. We can set the size of the figure via\n[dpi]{.title-ref} and set a title via [title]{.title-ref}.\n"
      ]
    },
    {
      "cell_type": "code",
      "execution_count": null,
      "metadata": {
        "collapsed": false
      },
      "outputs": [],
      "source": [
        "mpl.sankey(tp, dpi=100, title=\"Cell type evolution over time\")"
      ]
    },
    {
      "cell_type": "markdown",
      "metadata": {},
      "source": [
        "By default, the result of the [sankey]{.title-ref} method of a problem\ninstance is saved\n[anndata.AnnData.uns\\[\\'moscot\\_results\\'\\]\\[\\'sankey\\'\\]\\[\\'sankey\\'\\]\nand overrides this element every time the method is called. To prevent\nthis, we can specify the parameter \\`key\\_added]{.title-ref}, which we\nwill do to store the results of the following use case.\n"
      ]
    },
    {
      "cell_type": "markdown",
      "metadata": {},
      "source": [
        "We can also visualize flows of only a subset of categories of an\n`anndata.AnnData.obs`{.interpreted-text role=\"attr\"} column by passing a\ndictionary for [source\\_groups]{.title-ref} or\n[target\\_groups]{.title-ref}.\n"
      ]
    },
    {
      "cell_type": "code",
      "execution_count": null,
      "metadata": {
        "collapsed": false
      },
      "outputs": [],
      "source": [
        "new_key = \"subset_sankey\"\ntp.sankey(\n    source=2,\n    target=7,\n    source_groups={\"cell_type\": [\"HSC\", \"MasP\", \"MkP\"]},\n    target_groups={\"cell_type\": [\"HSC\", \"MasP\", \"MkP\"]},\n    forward=True,\n    return_data=False,\n    key_added=new_key,\n)\nmpl.sankey(tp, dpi=100, title=\"Cell type evolution over time\", uns_key=new_key)"
      ]
    }
  ],
  "metadata": {
    "kernelspec": {
      "display_name": "Python 3",
      "language": "python",
      "name": "python3"
    },
    "language_info": {
      "codemirror_mode": {
        "name": "ipython",
        "version": 3
      },
      "file_extension": ".py",
      "mimetype": "text/x-python",
      "name": "python",
      "nbconvert_exporter": "python",
      "pygments_lexer": "ipython3",
      "version": "3.9.15"
    }
  },
  "nbformat": 4,
  "nbformat_minor": 0
}
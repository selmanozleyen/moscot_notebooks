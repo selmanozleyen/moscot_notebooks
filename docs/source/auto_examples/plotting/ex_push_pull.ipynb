{
  "cells": [
    {
      "cell_type": "code",
      "execution_count": null,
      "metadata": {
        "collapsed": false
      },
      "outputs": [],
      "source": [
        "%matplotlib inline"
      ]
    },
    {
      "cell_type": "markdown",
      "metadata": {},
      "source": [
        "Plotting pull or push distributions\n===================================\n"
      ]
    },
    {
      "cell_type": "markdown",
      "metadata": {},
      "source": [
        "In this notebook, we will showcase how to use\n`moscot.plotting.push`{.interpreted-text role=\"meth\"} and its\ncounterpart `moscot.plotting.pull`{.interpreted-text role=\"meth\"}. These\nvisualization functions are only implemented for non-spatial problems.\nTo see how pullback or push forward cell distributions can be visualized\nfor problems incorporating spatial information, please have a look at\nthe tutorials. Here, we use the HSPC dataset to demonstrate the usage of\n`moscot.plotting.push`{.interpreted-text role=\"meth\"} and\n`moscot.plotting.pull`{.interpreted-text role=\"meth\"} with the\n`moscot.problems.time.TemporalProblem`{.interpreted-text role=\"class\"}.\nIn this context, the pull-back distribution corresponds to the set of\nancestor cells, while the push-forward distribution corresponds to the\nset of descending cells.\n"
      ]
    },
    {
      "cell_type": "code",
      "execution_count": null,
      "metadata": {
        "collapsed": false
      },
      "outputs": [],
      "source": [
        "from moscot.datasets import hspc\nfrom moscot.problems.time import TemporalProblem\nimport moscot.plotting as mpl\n\nadata = hspc()"
      ]
    },
    {
      "cell_type": "markdown",
      "metadata": {},
      "source": [
        "First, we need to prepare and solve the problem. Here, we set the\n[threshold]{.title-ref} parameter to a relative high value to speed up\nconvergence at the cost of lower quality.\n"
      ]
    },
    {
      "cell_type": "code",
      "execution_count": null,
      "metadata": {
        "collapsed": false
      },
      "outputs": [],
      "source": [
        "tp = TemporalProblem(adata).prepare(time_key=\"day\").solve(epsilon=1e-2, threshold=1e-2)"
      ]
    },
    {
      "cell_type": "markdown",
      "metadata": {},
      "source": [
        "As for all plotting functionalities in moscot, we first call the method\nof the problem class, which stores the results of the computation in the\n`anndata.AnnData`{.interpreted-text role=\"class\"} instance. Let us\nassume we look for the descendants of cells of time point 4 in time\npoint 7. We can specify whether we want to return the result via the\n[return\\_data]{.title-ref} parameter.\n"
      ]
    },
    {
      "cell_type": "code",
      "execution_count": null,
      "metadata": {
        "collapsed": false
      },
      "outputs": [],
      "source": [
        "tp.push(start=4, end=7, return_data=False)"
      ]
    },
    {
      "cell_type": "markdown",
      "metadata": {},
      "source": [
        "We can now visualize the result. As we have multiple time points in the\nUMAP embedding, it is best to visualize in one plot all the cells\ncorresponding to time point 4, and then the ones corresponding to the\ndescending cells. As the `anndata.AnnData`{.interpreted-text\nrole=\"class\"} instance contains UMAP embeddings for both gene expression\nand ATAC, we need to define which one to use via [basis]{.title-ref}.\n"
      ]
    },
    {
      "cell_type": "code",
      "execution_count": null,
      "metadata": {
        "collapsed": false
      },
      "outputs": [],
      "source": [
        "mpl.push(tp, time_points=[4], basis=\"umap_GEX\")\nmpl.push(tp, time_points=[7], basis=\"umap_GEX\")"
      ]
    },
    {
      "cell_type": "markdown",
      "metadata": {},
      "source": [
        "By default, the result of the [push]{.title-ref} method of a problem\ninstance is saved\n[anndata.AnnData.uns\\[\\'moscot\\_results\\'\\]\\[\\'push\\'\\]\\[\\'push\\'\\] and\noverrides this element every time the method is called. To prevent this,\nwe can specify the parameter \\`key\\_added]{.title-ref}, which we will do\nto store the results of the following use case.\n"
      ]
    },
    {
      "cell_type": "markdown",
      "metadata": {},
      "source": [
        "We can also visualize the descendants of only a subset of categories of\nan `anndata.AnnData.obs`{.interpreted-text role=\"attr\"} column by\nspecifying the [data]{.title-ref} and the [subset]{.title-ref}\nparameter.\n"
      ]
    },
    {
      "cell_type": "code",
      "execution_count": null,
      "metadata": {
        "collapsed": false
      },
      "outputs": [],
      "source": [
        "new_key = \"subset_push\"\ntp.push(start=4, end=7, data=\"cell_type\", subset=\"HSC\", return_data=False, key_added=new_key)\nmpl.push(tp, time_points=[4], uns_key=new_key, basis=\"umap_GEX\")\nmpl.push(tp, time_points=[7], uns_key=new_key, basis=\"umap_GEX\")"
      ]
    }
  ],
  "metadata": {
    "kernelspec": {
      "display_name": "Python 3",
      "language": "python",
      "name": "python3"
    },
    "language_info": {
      "codemirror_mode": {
        "name": "ipython",
        "version": 3
      },
      "file_extension": ".py",
      "mimetype": "text/x-python",
      "name": "python",
      "nbconvert_exporter": "python",
      "pygments_lexer": "ipython3",
      "version": "3.9.15"
    }
  },
  "nbformat": 4,
  "nbformat_minor": 0
}
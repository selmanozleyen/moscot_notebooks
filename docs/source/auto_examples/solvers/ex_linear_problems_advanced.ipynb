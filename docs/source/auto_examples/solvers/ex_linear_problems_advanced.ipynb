{
  "cells": [
    {
      "cell_type": "code",
      "execution_count": null,
      "metadata": {
        "collapsed": false
      },
      "outputs": [],
      "source": [
        "%matplotlib inline"
      ]
    },
    {
      "cell_type": "markdown",
      "metadata": {},
      "source": [
        "Solving linear problems\n=======================\n"
      ]
    },
    {
      "cell_type": "markdown",
      "metadata": {},
      "source": [
        "This examples is a continuation of TODO reference and shows advanced\nexamples for how to solve linear problems like the\n`moscot.problems.time.TemporalProblem`{.interpreted-text role=\"class\"}\nand the `moscot.problems.generic.SinkhornProblem`{.interpreted-text\nrole=\"class\"}.\n"
      ]
    },
    {
      "cell_type": "code",
      "execution_count": null,
      "metadata": {
        "collapsed": false
      },
      "outputs": [],
      "source": [
        "from moscot.datasets import simulate_data\nfrom moscot.problems.generic import SinkhornProblem\n\nadata = simulate_data(n_distributions=2, key=\"day\")\nadata"
      ]
    },
    {
      "cell_type": "markdown",
      "metadata": {},
      "source": [
        "Threshold\n=========\n\nThe [threshold]{.title-ref} parameter defines the convergence criterion.\nIn the balanced setting the [threshold]{.title-ref} denotes the\ndeviation between prior and posterior marginals, while in the unbalanced\nsetting the [threshold]{.title-ref} corresponds to a Cauchy sequence\nstopping criterion.\n\nInitializers\n============\n\nDifferent Initializers can help to improve convergence. For the\nfull-rank case we can set the initializer to the trivial initializing\nmethod denoted by [default]{.title-ref}. The [gaussian]{.title-ref}\n(`thornton:22`{.interpreted-text role=\"cite\"}) initializer computes\nGaussian approximations of two point clouds and leverages the\nclosed-form solution of Optimal Transport problems between Gaussians,\nwhile the [sorting]{.title-ref} initializer\n(`thornton:22`{.interpreted-text role=\"cite\"}) solves a simplified\n(sorting) Optimal Transport problem and uses its solution as\ninitializer. See `ott.core.initializers`{.interpreted-text role=\"mod\"}\nfor details.\n\nFor low-rank problems different initializers are available, see\n`ott.core.initializers_lr`{.interpreted-text role=\"mod\"}. Initialization\ncan be [random]{.title-ref}, [rank2]{.title-ref}\n(`scetbon:22b`{.interpreted-text role=\"cite\"}), [k-means]{.title-ref},\nor [generalized-k-means]{.title-ref}. For some initializers keyword\narguments can be provided as a dictionary, e.g.\n[min\\_iterations]{.title-ref} and [max\\_iterations]{.title-ref} can be\nprovided for the k-means algorithm used by the [k-means]{.title-ref}\ninitializer.\n"
      ]
    },
    {
      "cell_type": "code",
      "execution_count": null,
      "metadata": {
        "collapsed": false
      },
      "outputs": [],
      "source": [
        "sp = SinkhornProblem(adata)\nsp = sp.prepare(key=\"day\")\n\nik = {\"min_iterations\": 5, \"max_iterations\": 200}\nsp = sp.solve(epsilon=0, rank=3, initializer=\"k-means\", initializer_kwargs=ik)"
      ]
    },
    {
      "cell_type": "markdown",
      "metadata": {},
      "source": [
        "Number of iterations\n====================\n\nThere are three types of iterations, which can be set.\n[min\\_iterations]{.title-ref} is the minimum number of iterations of the\nalgorithm. [max\\_iterations]{.title-ref} is the maximum number of\niterations. If the convergence criterion is not met after completing\n[max\\_iterations]{.title-ref}, the model has not converged.\n[inner\\_iterations]{.title-ref} is the number of iterations after which\nthe model checks the convergence criterion. If\n[max\\_iterations]{.title-ref} is too low, the model won\\'t converge:\n"
      ]
    },
    {
      "cell_type": "code",
      "execution_count": null,
      "metadata": {
        "collapsed": false
      },
      "outputs": [],
      "source": [
        "sp = sp.solve(epsilon=1e-3, inner_iterations=1, min_iterations=0, max_iterations=2)"
      ]
    },
    {
      "cell_type": "markdown",
      "metadata": {},
      "source": [
        "Low rank hyperparameters\n========================\n\nThe low-rank algorithm requires more hyperparameters, i.e.\n[gamma]{.title-ref}, the a step size of the mirror descent algorithm and\n[gamma\\_rescale]{.title-ref}, a flag indicating whether to rescale\n[gamma]{.title-ref}. When tuning [gamma]{.title-ref}, we recommend\ntrying orders of 10. If [gamma]{.title-ref} is too small or too large,\nthe algorithm might not converge\n"
      ]
    },
    {
      "cell_type": "code",
      "execution_count": null,
      "metadata": {
        "collapsed": false
      },
      "outputs": [],
      "source": [
        "sp = sp.solve(epsilon=0, rank=3, initializer=\"random\", max_iterations=30, gamma=1000)"
      ]
    },
    {
      "cell_type": "code",
      "execution_count": null,
      "metadata": {
        "collapsed": false
      },
      "outputs": [],
      "source": [
        "sp = sp.solve(epsilon=0, rank=3, initializer=\"random\", max_iterations=30, gamma=10)"
      ]
    },
    {
      "cell_type": "markdown",
      "metadata": {},
      "source": [
        "Keyword arguments & Implementation details\n==========================================\n\nWhenever the\n`moscot.problems.time.TemporalProblem.solve`{.interpreted-text\nrole=\"meth\"} is called, a backend-specific linear solver is\ninstantiated. Currently, `ott`{.interpreted-text role=\"mod\"} is\nsupported, its corresponding linear solvers are\n`ott.core.sinkhorn.Sinkhorn`{.interpreted-text role=\"class\"}, which is\nused whenever [rank = -1]{.title-ref}, and\n`ott.core.sinkhorn_lr.LRSinkhorn`{.interpreted-text role=\"class\"}, its\ncounterpart whenever [rank]{.title-ref} is a positive integer.\n`moscot`{.interpreted-text role=\"mod\"} wraps these classes in\n`moscot.backends.ott.SinkhornSolver`{.interpreted-text role=\"class\"}\nwhich handles both full and low rank.\n\nTODO See other examples for \\...\n"
      ]
    }
  ],
  "metadata": {
    "kernelspec": {
      "display_name": "Python 3",
      "language": "python",
      "name": "python3"
    },
    "language_info": {
      "codemirror_mode": {
        "name": "ipython",
        "version": 3
      },
      "file_extension": ".py",
      "mimetype": "text/x-python",
      "name": "python",
      "nbconvert_exporter": "python",
      "pygments_lexer": "ipython3",
      "version": "3.9.15"
    }
  },
  "nbformat": 4,
  "nbformat_minor": 0
}
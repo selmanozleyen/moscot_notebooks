{
  "cells": [
    {
      "cell_type": "code",
      "execution_count": null,
      "metadata": {
        "collapsed": false
      },
      "outputs": [],
      "source": [
        "%matplotlib inline"
      ]
    },
    {
      "cell_type": "markdown",
      "metadata": {},
      "source": [
        "Solving linear problems\n=======================\n"
      ]
    },
    {
      "cell_type": "markdown",
      "metadata": {},
      "source": [
        "This notebook elaborates on how to solve linear problems, e.g. the\n`moscot.problems.time.TemporalProblem`{.interpreted-text role=\"class\"}\nand the `moscot.problems.generic.SinkhornProblem`{.interpreted-text\nrole=\"class\"}.\n"
      ]
    },
    {
      "cell_type": "code",
      "execution_count": null,
      "metadata": {
        "collapsed": false
      },
      "outputs": [],
      "source": [
        "from moscot.datasets import simulate_data\nfrom moscot.problems.generic import SinkhornProblem\n\nimport numpy as np\n\nadata = simulate_data(n_distributions=2, key=\"day\")\nadata"
      ]
    },
    {
      "cell_type": "markdown",
      "metadata": {},
      "source": [
        "The `moscot.problems.time.TemporalProblem.solve`{.interpreted-text\nrole=\"meth\"} has numerous arguments, a few of which will be discussed in\nthe following.\n"
      ]
    },
    {
      "cell_type": "markdown",
      "metadata": {},
      "source": [
        "Basic parameters\n================\n\n[epsilon]{.title-ref} is the regularization parameter. The lower\n[epsilon]{.title-ref}, the sparser the transport map. At the same time,\nthe algorithm takes longer to converge. [tau\\_a]{.title-ref} and\n[tau\\_b]{.title-ref} denote the unbalancedness parameters in the source\nand the target distribution, respectively. [tau\\_a = 1]{.title-ref}\nmeans the source marginals have to be fully satisfied while [0 \\< tau\\_a\n\\< 1]{.title-ref} relaxes this condition. Analogously,\n[tau\\_b]{.title-ref} affects the marginals of the target distribution.\nWe demonstrate the effect of [tau\\_a]{.title-ref} and\n[tau\\_b]{.title-ref} with the\n`moscot.problems.generic.SinkhornProblem`{.interpreted-text\nrole=\"class\"}. Whenever the prior marginals [a]{.title-ref} and\n[b]{.title-ref} of the source and the target distribution, respectively,\nare not passed (TODO link to marginals notebook), they are set to be\nuniform.\n"
      ]
    },
    {
      "cell_type": "code",
      "execution_count": null,
      "metadata": {
        "collapsed": false
      },
      "outputs": [],
      "source": [
        "sp = SinkhornProblem(adata)\nsp = sp.prepare(key=\"day\")\nprint(sp[0, 1].a[:5], sp[0, 1].b[:5])"
      ]
    },
    {
      "cell_type": "markdown",
      "metadata": {},
      "source": [
        "First, we solve the problem in a balanced manner, such that the\nposterior marginals of the solution (the sum over the rows and the\ncolumns for the source marginals and the target marginals, respectively)\nare equal to the prior marginals up to small errors (which define the\nconvergence criterion in the balanced case).\n"
      ]
    },
    {
      "cell_type": "code",
      "execution_count": null,
      "metadata": {
        "collapsed": false
      },
      "outputs": [],
      "source": [
        "sp = sp.solve(epsilon=1e-2, tau_a=1, tau_b=1)\nprint(sp[0, 1].solution.a[:5], sp[0, 1].solution.b[:5])"
      ]
    },
    {
      "cell_type": "markdown",
      "metadata": {},
      "source": [
        "If we solve an unbalanced problem, the posterior marginals will be\ndifferent.\n"
      ]
    },
    {
      "cell_type": "code",
      "execution_count": null,
      "metadata": {
        "collapsed": false
      },
      "outputs": [],
      "source": [
        "sp = sp.solve(epsilon=1e-2, tau_a=0.9, tau_b=0.99)\nprint(sp[0, 1].solution.a[:5], sp[0, 1].solution.b[:5])"
      ]
    },
    {
      "cell_type": "markdown",
      "metadata": {},
      "source": [
        "Low-rank solutions\n==================\n\nWhenever the dataset is very large, the computational complexity can be\nreduced by setting [rank]{.title-ref} to a positive integer\n(`scetbon:21a`{.interpreted-text role=\"cite\"}). In this case,\n[epsilon]{.title-ref} can also be set to 0, while only the balanced case\n([tau\\_a = tau\\_b = 1]{.title-ref}) is supported. The [rank]{.title-ref}\nshould be significantly smaller than the number of cells in both source\nand target distribution.\n"
      ]
    },
    {
      "cell_type": "code",
      "execution_count": null,
      "metadata": {
        "collapsed": false
      },
      "outputs": [],
      "source": [
        "sp = sp.solve(epsilon=0, rank=3, initializer=\"random\")"
      ]
    },
    {
      "cell_type": "markdown",
      "metadata": {},
      "source": [
        "Scaling the cost\n================\n\n[scale\\_cost]{.title-ref} scales the cost matrix which often helps the\nalgorithm to converge. While any number can be passed, it is also\npossible to scale the cost matrix by e.g. its mean, median, and maximum.\nWe recommend using the [mean]{.title-ref} as this is possible without\ninstantiating the cost matrix and hence reduces computational\ncomplexity. Moreover, it is more stable w.r.t. outliers than for example\nscaling by the maximum. Note that the solution of the Optimal Transport\nis not stable across different scalings:\n"
      ]
    },
    {
      "cell_type": "code",
      "execution_count": null,
      "metadata": {
        "collapsed": false
      },
      "outputs": [],
      "source": [
        "sp = sp.solve(epsilon=1e-2, scale_cost=\"mean\")\ntm_mean = sp[0, 1].solution.transport_matrix\nprint(tm_mean[:3, :3])"
      ]
    },
    {
      "cell_type": "code",
      "execution_count": null,
      "metadata": {
        "collapsed": false
      },
      "outputs": [],
      "source": [
        "sp = sp.solve(epsilon=1e-2, scale_cost=\"max_cost\")\ntm_max = sp[0, 1].solution.transport_matrix\nprint(tm_max[:3, :3])"
      ]
    },
    {
      "cell_type": "markdown",
      "metadata": {},
      "source": [
        "We can compute the correlation of the flattened transport matrix to get\nan idea of the influence of different scalings.\n"
      ]
    },
    {
      "cell_type": "code",
      "execution_count": null,
      "metadata": {
        "collapsed": false
      },
      "outputs": [],
      "source": [
        "correlation = np.corrcoef(tm_mean.flatten(), tm_max.flatten())[0, 1]\nprint(f\"{correlation:.4f}\")"
      ]
    },
    {
      "cell_type": "markdown",
      "metadata": {},
      "source": [
        "TODO See other examples for \\...\n"
      ]
    }
  ],
  "metadata": {
    "kernelspec": {
      "display_name": "Python 3",
      "language": "python",
      "name": "python3"
    },
    "language_info": {
      "codemirror_mode": {
        "name": "ipython",
        "version": 3
      },
      "file_extension": ".py",
      "mimetype": "text/x-python",
      "name": "python",
      "nbconvert_exporter": "python",
      "pygments_lexer": "ipython3",
      "version": "3.9.15"
    }
  },
  "nbformat": 4,
  "nbformat_minor": 0
}
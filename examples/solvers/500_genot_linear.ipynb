{
 "cells": [
  {
   "cell_type": "markdown",
   "id": "5dd40e05-23d5-49e9-9530-bd79726c0760",
   "metadata": {},
   "source": [
    "# Neural problems via GENOT (advanced)\n",
    "\n",
    "This example shows an advanced neural problems usage, e.g., the {class}`~moscot.problems.generic.GENOTLinProblem`."
   ]
  },
  {
   "cell_type": "code",
   "execution_count": 7,
   "id": "b55e1e47-d70d-41a3-9428-09815baa617d",
   "metadata": {},
   "outputs": [
    {
     "name": "stdout",
     "output_type": "stream",
     "text": [
      "The autoreload extension is already loaded. To reload it, use:\n",
      "  %reload_ext autoreload\n"
     ]
    }
   ],
   "source": [
    "%load_ext autoreload\n",
    "%autoreload 2\n",
    "from moscot.problems import GENOTLinProblem\n",
    "from moscot import datasets\n",
    "import matplotlib.pyplot as plt\n",
    "import matplotlib.colors as mcolors\n",
    "from anndata import AnnData\n",
    "import numpy as np\n",
    "import os"
   ]
  },
  {
   "cell_type": "markdown",
   "id": "f38966a0-6780-48eb-bfa3-331b97e5e3a8",
   "metadata": {},
   "source": [
    "## Data Setup\n",
    "\n",
    "First we set up some data from 3 different normal distributions"
   ]
  },
  {
   "cell_type": "code",
   "execution_count": 8,
   "id": "c5252f82-dc7f-434f-b4f4-bbedf6adfb43",
   "metadata": {},
   "outputs": [
    {
     "name": "stderr",
     "output_type": "stream",
     "text": [
      "/var/folders/k9/9wc7lvwj2g34_r74kn6cr0nr0000gn/T/ipykernel_15077/2178879371.py:12: UserWarning: *c* argument looks like a single numeric RGB or RGBA sequence, which should be avoided as value-mapping will have precedence in case its length matches with *x* & *y*.  Please use the *color* keyword-argument or provide a 2D array with a single row if you intend to specify the same RGB or RGBA value for all points.\n",
      "  plt.scatter(adata[adata.obs['batch'] == i].obsm['normal'].T[0], adata[adata.obs['batch'] == i].obsm['normal'].T[1], c=list(mcolors.BASE_COLORS.values())[i])\n"
     ]
    },
    {
     "data": {
      "image/png": "[encoded data removed]",
      "text/plain": [
       "<Figure size 640x480 with 1 Axes>"
      ]
     },
     "metadata": {},
     "output_type": "display_data"
    }
   ],
   "source": [
    "batches = []\n",
    "n_batches = 3\n",
    "n_obs_per_batch = 2048\n",
    "for i in range(n_batches):\n",
    "    batches += [i] * n_obs_per_batch\n",
    "adata = AnnData(\n",
    "    obsm = { 'normal': np.vstack([np.random.multivariate_normal([i * 2, i * 2], [[.02,0],[0,.02]], n_obs_per_batch) for i in range(n_batches)]) },\n",
    "    obs = { 'batch': batches }\n",
    ")\n",
    "\n",
    "for i in range(n_batches):\n",
    "    plt.scatter(adata[adata.obs['batch'] == i].obsm['normal'].T[0], adata[adata.obs['batch'] == i].obsm['normal'].T[1], c=list(mcolors.BASE_COLORS.values())[i])"
   ]
  },
  {
   "cell_type": "markdown",
   "id": "42ed2898-449c-491a-92fb-24ae2f1875c3",
   "metadata": {},
   "source": [
    "## Problem Setup\n",
    "\n",
    "Next, we set up a problem with a star policy mapping to 0 from both 1 and 2, and then train this problem _jointly_!"
   ]
  },
  {
   "cell_type": "code",
   "execution_count": 9,
   "id": "5632e2a5-485d-443c-a597-5ef028a0edad",
   "metadata": {},
   "outputs": [
    {
     "name": "stderr",
     "output_type": "stream",
     "text": [
      "2024-05-24 18:49:23.699559: E external/xla/xla/service/slow_operation_alarm.cc:133] The operation took 15m0.46261s\n",
      "\n",
      "********************************\n",
      "[Compiling module jit_while] Very slow compile? If you want to file a bug, run with envvar XLA_FLAGS=--xla_dump_to=/tmp/foo and attach the results.\n",
      "********************************\n",
      "2024-05-24 18:59:26.424863: E external/xla/xla/service/slow_operation_alarm.cc:133] The operation took 9m54.608568s\n",
      "\n",
      "********************************\n",
      "[Compiling module jit_while] Very slow compile? If you want to file a bug, run with envvar XLA_FLAGS=--xla_dump_to=/tmp/foo and attach the results.\n",
      "********************************\n",
      "2024-05-24 19:10:31.078790: E external/xla/xla/service/slow_operation_alarm.cc:133] The operation took 4m15.592252s\n",
      "\n",
      "********************************\n",
      "[Compiling module jit_while] Very slow compile? If you want to file a bug, run with envvar XLA_FLAGS=--xla_dump_to=/tmp/foo and attach the results.\n",
      "********************************\n",
      "2024-05-24 19:32:03.853294: E external/xla/xla/service/slow_operation_alarm.cc:133] The operation took 15m30.581163s\n",
      "\n",
      "********************************\n",
      "[Compiling module jit_while] Very slow compile? If you want to file a bug, run with envvar XLA_FLAGS=--xla_dump_to=/tmp/foo and attach the results.\n",
      "********************************\n",
      "2024-05-24 19:48:21.967487: E external/xla/xla/service/slow_operation_alarm.cc:133] The operation took 16m13.403021s\n",
      "\n",
      "********************************\n",
      "[Compiling module jit_while] Very slow compile? If you want to file a bug, run with envvar XLA_FLAGS=--xla_dump_to=/tmp/foo and attach the results.\n",
      "********************************\n",
      "2024-05-24 20:33:21.065211: E external/xla/xla/service/slow_operation_alarm.cc:133] The operation took 4m14.698037s\n",
      "\n",
      "********************************\n",
      "[Compiling module jit_while] Very slow compile? If you want to file a bug, run with envvar XLA_FLAGS=--xla_dump_to=/tmp/foo and attach the results.\n",
      "********************************\n",
      "2024-05-24 21:43:32.602762: E external/xla/xla/service/slow_operation_alarm.cc:133] The operation took 15m22.258566s\n",
      "\n",
      "********************************\n",
      "[Compiling module jit_while] Very slow compile? If you want to file a bug, run with envvar XLA_FLAGS=--xla_dump_to=/tmp/foo and attach the results.\n",
      "********************************\n",
      "2024-05-24 22:16:58.560491: E external/xla/xla/service/slow_operation_alarm.cc:133] The operation took 17m12.083825s\n",
      "\n",
      "********************************\n",
      "[Compiling module jit_while] Very slow compile? If you want to file a bug, run with envvar XLA_FLAGS=--xla_dump_to=/tmp/foo and attach the results.\n",
      "********************************\n",
      "2024-05-24 23:36:15.661105: E external/xla/xla/service/slow_operation_alarm.cc:133] The operation took 11m47.961543s\n",
      "\n",
      "********************************\n",
      "[Compiling module jit_while] Very slow compile? If you want to file a bug, run with envvar XLA_FLAGS=--xla_dump_to=/tmp/foo and attach the results.\n",
      "********************************\n",
      "2024-05-25 01:18:59.777870: E external/xla/xla/service/slow_operation_alarm.cc:133] The operation took 16m34.316068s\n",
      "\n",
      "********************************\n",
      "[Compiling module jit_while] Very slow compile? If you want to file a bug, run with envvar XLA_FLAGS=--xla_dump_to=/tmp/foo and attach the results.\n",
      "********************************\n",
      "2024-05-25 01:58:07.517336: E external/xla/xla/service/slow_operation_alarm.cc:133] The operation took 8m13.312083s\n",
      "\n",
      "********************************\n",
      "[Compiling module jit_while] Very slow compile? If you want to file a bug, run with envvar XLA_FLAGS=--xla_dump_to=/tmp/foo and attach the results.\n",
      "********************************\n",
      "2024-05-25 02:19:07.721935: E external/xla/xla/service/slow_operation_alarm.cc:133] The operation took 15m21.296827s\n",
      "\n",
      "********************************\n",
      "[Compiling module jit_while] Very slow compile? If you want to file a bug, run with envvar XLA_FLAGS=--xla_dump_to=/tmp/foo and attach the results.\n",
      "********************************\n",
      "2024-05-25 02:27:11.688859: E external/xla/xla/service/slow_operation_alarm.cc:133] The operation took 7m59.193673s\n",
      "\n",
      "********************************\n",
      "[Compiling module jit_while] Very slow compile? If you want to file a bug, run with envvar XLA_FLAGS=--xla_dump_to=/tmp/foo and attach the results.\n",
      "********************************\n",
      "2024-05-25 02:43:48.449752: E external/xla/xla/service/slow_operation_alarm.cc:133] The operation took 16m29.267742s\n",
      "\n",
      "********************************\n",
      "[Compiling module jit_while] Very slow compile? If you want to file a bug, run with envvar XLA_FLAGS=--xla_dump_to=/tmp/foo and attach the results.\n",
      "********************************\n",
      "2024-05-25 04:09:25.703524: E external/xla/xla/service/slow_operation_alarm.cc:133] The operation took 17m47.292041s\n",
      "\n",
      "********************************\n",
      "[Compiling module jit_while] Very slow compile? If you want to file a bug, run with envvar XLA_FLAGS=--xla_dump_to=/tmp/foo and attach the results.\n",
      "********************************\n",
      "2024-05-25 04:44:29.561583: E external/xla/xla/service/slow_operation_alarm.cc:133] The operation took 16m58.150523s\n",
      "\n",
      "********************************\n",
      "[Compiling module jit_while] Very slow compile? If you want to file a bug, run with envvar XLA_FLAGS=--xla_dump_to=/tmp/foo and attach the results.\n",
      "********************************\n",
      "2024-05-25 08:16:25.667555: E external/xla/xla/service/slow_operation_alarm.cc:133] The operation took 17m13.840695s\n",
      "\n",
      "********************************\n",
      "[Compiling module jit_while] Very slow compile? If you want to file a bug, run with envvar XLA_FLAGS=--xla_dump_to=/tmp/foo and attach the results.\n",
      "********************************\n",
      "2024-05-25 09:07:30.508908: E external/xla/xla/service/slow_operation_alarm.cc:133] The operation took 16m59.167842s\n",
      "\n",
      "********************************\n",
      "[Compiling module jit_while] Very slow compile? If you want to file a bug, run with envvar XLA_FLAGS=--xla_dump_to=/tmp/foo and attach the results.\n",
      "********************************\n",
      "2024-05-25 10:33:15.526607: E external/xla/xla/service/slow_operation_alarm.cc:133] The operation took 17m20.173564s\n",
      "\n",
      "********************************\n",
      "[Compiling module jit_while] Very slow compile? If you want to file a bug, run with envvar XLA_FLAGS=--xla_dump_to=/tmp/foo and attach the results.\n",
      "********************************\n",
      "2024-05-25 10:50:39.771544: E external/xla/xla/service/slow_operation_alarm.cc:133] The operation took 17m19.306308s\n",
      "\n",
      "********************************\n",
      "[Compiling module jit_while] Very slow compile? If you want to file a bug, run with envvar XLA_FLAGS=--xla_dump_to=/tmp/foo and attach the results.\n",
      "********************************\n",
      "2024-05-25 11:07:15.819047: E external/xla/xla/service/slow_operation_alarm.cc:133] The operation took 16m31.382851s\n",
      "\n",
      "********************************\n",
      "[Compiling module jit_while] Very slow compile? If you want to file a bug, run with envvar XLA_FLAGS=--xla_dump_to=/tmp/foo and attach the results.\n",
      "********************************\n",
      "2024-05-25 11:50:35.601182: E external/xla/xla/service/slow_operation_alarm.cc:133] The operation took 17m50.226256s\n",
      "\n",
      "********************************\n",
      "[Compiling module jit_while] Very slow compile? If you want to file a bug, run with envvar XLA_FLAGS=--xla_dump_to=/tmp/foo and attach the results.\n",
      "********************************\n",
      "2024-05-25 12:07:32.731338: E external/xla/xla/service/slow_operation_alarm.cc:133] The operation took 16m52.338953s\n",
      "\n",
      "********************************\n",
      "[Compiling module jit_while] Very slow compile? If you want to file a bug, run with envvar XLA_FLAGS=--xla_dump_to=/tmp/foo and attach the results.\n",
      "********************************\n",
      "2024-05-25 13:12:21.511272: E external/xla/xla/service/slow_operation_alarm.cc:133] The operation took 15m55.763865s\n",
      "\n",
      "********************************\n",
      "[Compiling module jit_while] Very slow compile? If you want to file a bug, run with envvar XLA_FLAGS=--xla_dump_to=/tmp/foo and attach the results.\n",
      "********************************\n",
      "2024-05-25 14:22:25.925472: E external/xla/xla/service/slow_operation_alarm.cc:133] The operation took 2m41.539643s\n",
      "\n",
      "********************************\n",
      "[Compiling module jit_while] Very slow compile? If you want to file a bug, run with envvar XLA_FLAGS=--xla_dump_to=/tmp/foo and attach the results.\n",
      "********************************\n",
      "2024-05-25 16:07:24.041674: E external/xla/xla/service/slow_operation_alarm.cc:133] The operation took 4m59.061247s\n",
      "\n",
      "********************************\n",
      "[Compiling module jit_while] Very slow compile? If you want to file a bug, run with envvar XLA_FLAGS=--xla_dump_to=/tmp/foo and attach the results.\n",
      "********************************\n",
      "2024-05-25 16:29:16.971999: E external/xla/xla/service/slow_operation_alarm.cc:133] The operation took 6m28.420884s\n",
      "\n",
      "********************************\n",
      "[Compiling module jit_while] Very slow compile? If you want to file a bug, run with envvar XLA_FLAGS=--xla_dump_to=/tmp/foo and attach the results.\n",
      "********************************\n",
      "2024-05-25 16:35:29.944279: E external/xla/xla/service/slow_operation_alarm.cc:133] The operation took 6m5.198781s\n",
      "\n",
      "********************************\n",
      "[Compiling module jit_while] Very slow compile? If you want to file a bug, run with envvar XLA_FLAGS=--xla_dump_to=/tmp/foo and attach the results.\n",
      "********************************\n",
      "2024-05-25 16:38:35.402460: E external/xla/xla/service/slow_operation_alarm.cc:133] The operation took 2m52.855075s\n",
      "\n",
      "********************************\n",
      "[Compiling module jit_while] Very slow compile? If you want to file a bug, run with envvar XLA_FLAGS=--xla_dump_to=/tmp/foo and attach the results.\n",
      "********************************\n",
      "2024-05-25 17:04:06.506257: E external/xla/xla/service/slow_operation_alarm.cc:133] The operation took 11m22.585556s\n",
      "\n",
      "********************************\n",
      "[Compiling module jit_while] Very slow compile? If you want to file a bug, run with envvar XLA_FLAGS=--xla_dump_to=/tmp/foo and attach the results.\n",
      "********************************\n",
      "2024-05-25 17:40:24.912589: E external/xla/xla/service/slow_operation_alarm.cc:133] The operation took 13m21.446709s\n",
      "\n",
      "********************************\n",
      "[Compiling module jit_while] Very slow compile? If you want to file a bug, run with envvar XLA_FLAGS=--xla_dump_to=/tmp/foo and attach the results.\n",
      "********************************\n",
      "2024-05-25 18:12:42.535317: E external/xla/xla/service/slow_operation_alarm.cc:133] The operation took 16m17.051512s\n",
      "\n",
      "********************************\n",
      "[Compiling module jit_while] Very slow compile? If you want to file a bug, run with envvar XLA_FLAGS=--xla_dump_to=/tmp/foo and attach the results.\n",
      "********************************\n",
      "2024-05-25 18:33:17.622445: E external/xla/xla/service/slow_operation_alarm.cc:133] The operation took 15m6.927605s\n",
      "\n",
      "********************************\n",
      "[Compiling module jit_while] Very slow compile? If you want to file a bug, run with envvar XLA_FLAGS=--xla_dump_to=/tmp/foo and attach the results.\n",
      "********************************\n",
      "2024-05-25 19:16:02.292998: E external/xla/xla/service/slow_operation_alarm.cc:133] The operation took 5m20.671531s\n",
      "\n",
      "********************************\n",
      "[Compiling module jit_while] Very slow compile? If you want to file a bug, run with envvar XLA_FLAGS=--xla_dump_to=/tmp/foo and attach the results.\n",
      "********************************\n",
      "2024-05-25 19:35:01.890690: E external/xla/xla/service/slow_operation_alarm.cc:133] The operation took 2m2.490152s\n",
      "\n",
      "********************************\n",
      "[Compiling module jit_while] Very slow compile? If you want to file a bug, run with envvar XLA_FLAGS=--xla_dump_to=/tmp/foo and attach the results.\n",
      "********************************\n",
      "2024-05-25 20:25:01.534232: E external/xla/xla/service/slow_operation_alarm.cc:133] The operation took 15m9.923766s\n",
      "\n",
      "********************************\n",
      "[Compiling module jit_while] Very slow compile? If you want to file a bug, run with envvar XLA_FLAGS=--xla_dump_to=/tmp/foo and attach the results.\n",
      "********************************\n",
      "2024-05-25 20:41:52.479134: E external/xla/xla/service/slow_operation_alarm.cc:133] The operation took 16m46.235854s\n",
      "\n",
      "********************************\n",
      "[Compiling module jit_while] Very slow compile? If you want to file a bug, run with envvar XLA_FLAGS=--xla_dump_to=/tmp/foo and attach the results.\n",
      "********************************\n",
      "2024-05-25 21:34:50.306086: E external/xla/xla/service/slow_operation_alarm.cc:133] The operation took 16m7.160602s\n",
      "\n",
      "********************************\n",
      "[Compiling module jit_while] Very slow compile? If you want to file a bug, run with envvar XLA_FLAGS=--xla_dump_to=/tmp/foo and attach the results.\n",
      "********************************\n",
      "2024-05-25 22:50:59.325047: E external/xla/xla/service/slow_operation_alarm.cc:133] The operation took 16m27.166017s\n",
      "\n",
      "********************************\n",
      "[Compiling module jit_while] Very slow compile? If you want to file a bug, run with envvar XLA_FLAGS=--xla_dump_to=/tmp/foo and attach the results.\n",
      "********************************\n",
      "2024-05-25 23:01:27.349649: E external/xla/xla/service/slow_operation_alarm.cc:133] The operation took 10m23.413474s\n",
      "\n",
      "********************************\n",
      "[Compiling module jit_while] Very slow compile? If you want to file a bug, run with envvar XLA_FLAGS=--xla_dump_to=/tmp/foo and attach the results.\n",
      "********************************\n",
      "2024-05-26 00:05:40.413999: E external/xla/xla/service/slow_operation_alarm.cc:133] The operation took 15m27.381838s\n",
      "\n",
      "********************************\n",
      "[Compiling module jit_while] Very slow compile? If you want to file a bug, run with envvar XLA_FLAGS=--xla_dump_to=/tmp/foo and attach the results.\n",
      "********************************\n",
      "2024-05-26 01:20:40.335475: E external/xla/xla/service/slow_operation_alarm.cc:133] The operation took 15m55.299061s\n",
      "\n",
      "********************************\n",
      "[Compiling module jit_while] Very slow compile? If you want to file a bug, run with envvar XLA_FLAGS=--xla_dump_to=/tmp/foo and attach the results.\n",
      "********************************\n",
      "2024-05-26 01:37:18.137667: E external/xla/xla/service/slow_operation_alarm.cc:133] The operation took 16m33.173386s\n",
      "\n",
      "********************************\n",
      "[Compiling module jit_while] Very slow compile? If you want to file a bug, run with envvar XLA_FLAGS=--xla_dump_to=/tmp/foo and attach the results.\n",
      "********************************\n",
      "2024-05-26 01:52:52.137903: E external/xla/xla/service/slow_operation_alarm.cc:133] The operation took 15m29.175879s\n",
      "\n",
      "********************************\n",
      "[Compiling module jit_while] Very slow compile? If you want to file a bug, run with envvar XLA_FLAGS=--xla_dump_to=/tmp/foo and attach the results.\n",
      "********************************\n",
      "2024-05-26 02:24:42.030352: E external/xla/xla/service/slow_operation_alarm.cc:133] The operation took 16m0.118863s\n",
      "\n",
      "********************************\n",
      "[Compiling module jit_while] Very slow compile? If you want to file a bug, run with envvar XLA_FLAGS=--xla_dump_to=/tmp/foo and attach the results.\n",
      "********************************\n",
      "2024-05-26 02:58:16.059851: E external/xla/xla/service/slow_operation_alarm.cc:133] The operation took 17m2.139415s\n",
      "\n",
      "********************************\n",
      "[Compiling module jit_while] Very slow compile? If you want to file a bug, run with envvar XLA_FLAGS=--xla_dump_to=/tmp/foo and attach the results.\n",
      "********************************\n",
      "2024-05-26 03:32:09.491679: E external/xla/xla/service/slow_operation_alarm.cc:133] The operation took 15m30.697019s\n",
      "\n",
      "********************************\n",
      "[Compiling module jit_while] Very slow compile? If you want to file a bug, run with envvar XLA_FLAGS=--xla_dump_to=/tmp/foo and attach the results.\n",
      "********************************\n",
      "2024-05-26 05:31:39.278027: E external/xla/xla/service/slow_operation_alarm.cc:133] The operation took 15m41.161391s\n",
      "\n",
      "********************************\n",
      "[Compiling module jit_while] Very slow compile? If you want to file a bug, run with envvar XLA_FLAGS=--xla_dump_to=/tmp/foo and attach the results.\n",
      "********************************\n",
      "2024-05-26 07:10:11.333935: E external/xla/xla/service/slow_operation_alarm.cc:133] The operation took 15m5.280253s\n",
      "\n",
      "********************************\n",
      "[Compiling module jit_while] Very slow compile? If you want to file a bug, run with envvar XLA_FLAGS=--xla_dump_to=/tmp/foo and attach the results.\n",
      "********************************\n",
      "2024-05-26 07:18:08.525521: E external/xla/xla/service/slow_operation_alarm.cc:133] The operation took 7m52.547582s\n",
      "\n",
      "********************************\n",
      "[Compiling module jit_while] Very slow compile? If you want to file a bug, run with envvar XLA_FLAGS=--xla_dump_to=/tmp/foo and attach the results.\n",
      "********************************\n",
      "2024-05-26 07:35:43.051863: E external/xla/xla/service/slow_operation_alarm.cc:133] The operation took 17m23.910092s\n",
      "\n",
      "********************************\n",
      "[Compiling module jit_while] Very slow compile? If you want to file a bug, run with envvar XLA_FLAGS=--xla_dump_to=/tmp/foo and attach the results.\n",
      "********************************\n",
      "2024-05-26 08:22:56.954383: E external/xla/xla/service/slow_operation_alarm.cc:133] The operation took 14m59.243992s\n",
      "\n",
      "********************************\n",
      "[Compiling module jit_while] Very slow compile? If you want to file a bug, run with envvar XLA_FLAGS=--xla_dump_to=/tmp/foo and attach the results.\n",
      "********************************\n",
      "2024-05-26 08:43:20.132931: E external/xla/xla/service/slow_operation_alarm.cc:133] The operation took 16m29.904175s\n",
      "\n",
      "********************************\n",
      "[Compiling module jit_while] Very slow compile? If you want to file a bug, run with envvar XLA_FLAGS=--xla_dump_to=/tmp/foo and attach the results.\n",
      "********************************\n",
      "2024-05-26 10:16:19.309915: E external/xla/xla/service/slow_operation_alarm.cc:133] The operation took 15m25.058659s\n",
      "\n",
      "********************************\n",
      "[Compiling module jit_while] Very slow compile? If you want to file a bug, run with envvar XLA_FLAGS=--xla_dump_to=/tmp/foo and attach the results.\n",
      "********************************\n",
      "2024-05-26 10:57:54.764889: E external/xla/xla/service/slow_operation_alarm.cc:133] The operation took 16m9.627307s\n",
      "\n",
      "********************************\n",
      "[Compiling module jit_while] Very slow compile? If you want to file a bug, run with envvar XLA_FLAGS=--xla_dump_to=/tmp/foo and attach the results.\n",
      "********************************\n",
      "2024-05-26 12:23:38.577147: E external/xla/xla/service/slow_operation_alarm.cc:133] The operation took 9m32.307647s\n",
      "\n",
      "********************************\n",
      "[Compiling module jit_while] Very slow compile? If you want to file a bug, run with envvar XLA_FLAGS=--xla_dump_to=/tmp/foo and attach the results.\n",
      "********************************\n",
      "2024-05-26 12:39:45.166741: E external/xla/xla/service/slow_operation_alarm.cc:133] The operation took 15m0.052258s\n",
      "\n",
      "********************************\n",
      "[Compiling module jit_while] Very slow compile? If you want to file a bug, run with envvar XLA_FLAGS=--xla_dump_to=/tmp/foo and attach the results.\n",
      "********************************\n",
      "2024-05-26 12:57:13.278711: E external/xla/xla/service/slow_operation_alarm.cc:133] The operation took 17m23.311006s\n",
      "\n",
      "********************************\n",
      "[Compiling module jit_while] Very slow compile? If you want to file a bug, run with envvar XLA_FLAGS=--xla_dump_to=/tmp/foo and attach the results.\n",
      "********************************\n",
      "2024-05-26 13:12:33.333103: E external/xla/xla/service/slow_operation_alarm.cc:133] The operation took 15m15.309478s\n",
      "\n",
      "********************************\n",
      "[Compiling module jit_while] Very slow compile? If you want to file a bug, run with envvar XLA_FLAGS=--xla_dump_to=/tmp/foo and attach the results.\n",
      "********************************\n",
      "2024-05-26 14:35:53.978300: E external/xla/xla/service/slow_operation_alarm.cc:133] The operation took 16m52.177073s\n",
      "\n",
      "********************************\n",
      "[Compiling module jit_while] Very slow compile? If you want to file a bug, run with envvar XLA_FLAGS=--xla_dump_to=/tmp/foo and attach the results.\n",
      "********************************\n",
      "2024-05-26 14:54:16.200366: E external/xla/xla/service/slow_operation_alarm.cc:133] The operation took 17m44.323343s\n",
      "\n",
      "********************************\n",
      "[Compiling module jit_while] Very slow compile? If you want to file a bug, run with envvar XLA_FLAGS=--xla_dump_to=/tmp/foo and attach the results.\n",
      "********************************\n",
      "2024-05-26 15:11:19.067890: E external/xla/xla/service/slow_operation_alarm.cc:133] The operation took 16m58.022628s\n",
      "\n",
      "********************************\n",
      "[Compiling module jit_while] Very slow compile? If you want to file a bug, run with envvar XLA_FLAGS=--xla_dump_to=/tmp/foo and attach the results.\n",
      "********************************\n",
      "2024-05-26 15:59:42.601308: E external/xla/xla/service/slow_operation_alarm.cc:133] The operation took 6m48.787822s\n",
      "\n",
      "********************************\n",
      "[Compiling module jit_while] Very slow compile? If you want to file a bug, run with envvar XLA_FLAGS=--xla_dump_to=/tmp/foo and attach the results.\n",
      "********************************\n",
      "2024-05-26 16:04:15.130259: E external/xla/xla/service/slow_operation_alarm.cc:133] The operation took 2m3.111218s\n",
      "\n",
      "********************************\n",
      "[Compiling module jit_while] Very slow compile? If you want to file a bug, run with envvar XLA_FLAGS=--xla_dump_to=/tmp/foo and attach the results.\n",
      "********************************\n"
     ]
    }
   ],
   "source": [
    "is_ci = os.getenv(\"CI\") == \"true\"\n",
    "\n",
    "iterations = 1 if is_ci else 20000\n",
    "velocity_field_hidden_dims = [8, 8, 8] if is_ci else [512, 512, 512]\n",
    "velocity_field_time_dims = [8, 8, 8] if is_ci else [1024, 1024, 1024]\n",
    "velocity_field_output_dims = [8, 8, 8] if is_ci else [1024, 1024, 1024]\n",
    "\n",
    "problem = GENOTLinProblem(adata)\n",
    "problem = problem.prepare(policy=\"star\", reference=0, key=\"batch\", joint_attr=\"normal\", conditional_attr={\"attr\": \"obs\", \"key\": \"batch\"})\n",
    "problem = problem.solve(batch_size=128,iterations=iterations, train_size=1.0,  velocity_field_hidden_dims=velocity_field_hidden_dims,velocity_field_time_dims=velocity_field_time_dims, velocity_field_output_dims=velocity_field_output_dims)"
   ]
  },
  {
   "cell_type": "code",
   "execution_count": 10,
   "id": "05450dde-f0ee-47b7-990b-bf617cc64e99",
   "metadata": {},
   "outputs": [
    {
     "data": {
      "text/plain": [
       "[<matplotlib.lines.Line2D at 0x4bcf47ac0>]"
      ]
     },
     "execution_count": 10,
     "metadata": {},
     "output_type": "execute_result"
    },
    {
     "data": {
      "image/png": "[encoded data removed]",
      "text/plain": [
       "<Figure size 640x480 with 1 Axes>"
      ]
     },
     "metadata": {},
     "output_type": "display_data"
    }
   ],
   "source": [
    "plt.plot(problem.solution.logs['loss'])"
   ]
  },
  {
   "cell_type": "markdown",
   "id": "4ae1fad1-f96b-4d6a-be7a-99d16bb209db",
   "metadata": {},
   "source": [
    "## Results\n",
    "\n",
    "Finally, we can visualize the results and see that the source indeed maps to both targets rather cleanly."
   ]
  },
  {
   "cell_type": "code",
   "execution_count": 11,
   "id": "d47c7c2d-0552-4f1f-b276-157103ad277a",
   "metadata": {},
   "outputs": [
    {
     "data": {
      "text/plain": [
       "<matplotlib.legend.Legend at 0x10555c4c0>"
      ]
     },
     "execution_count": 11,
     "metadata": {},
     "output_type": "execute_result"
    },
    {
     "data": {
      "image/png": "[encoded data removed]",
      "text/plain": [
       "<Figure size 640x480 with 1 Axes>"
      ]
     },
     "metadata": {},
     "output_type": "display_data"
    }
   ],
   "source": [
    "adata_subset = adata[adata.obs['batch'] == 1, :]\n",
    "pushed = problem.solution.push(adata_subset.obsm['normal'], adata_subset.obs['batch'].values.reshape(adata_subset.shape[0], -1))\n",
    "plt.scatter(adata_subset.obsm['normal'].T[0], adata_subset.obsm['normal'].T[1], c=\"b\", label=\"source\")\n",
    "plt.scatter(pushed.T[0], pushed.T[1], c='r', label=\"target\")\n",
    "plt.legend()"
   ]
  },
  {
   "cell_type": "code",
   "execution_count": 12,
   "id": "19fa21a0-e45f-4f74-994e-fcc5ac2e3fcb",
   "metadata": {},
   "outputs": [
    {
     "data": {
      "text/plain": [
       "<matplotlib.legend.Legend at 0x4ba87cee0>"
      ]
     },
     "execution_count": 12,
     "metadata": {},
     "output_type": "execute_result"
    },
    {
     "data": {
      "image/png": "[encoded data removed]",
      "text/plain": [
       "<Figure size 640x480 with 1 Axes>"
      ]
     },
     "metadata": {},
     "output_type": "display_data"
    }
   ],
   "source": [
    "adata_subset = adata[adata.obs['batch'] == 2, :]\n",
    "pushed = problem.solution.push(adata_subset.obsm['normal'], adata_subset.obs['batch'].values.reshape(adata_subset.shape[0], -1))\n",
    "plt.scatter(adata_subset.obsm['normal'].T[0], adata_subset.obsm['normal'].T[1], c=\"b\", label=\"source\")\n",
    "plt.scatter(pushed.T[0], pushed.T[1], c='r', label=\"target\")\n",
    "plt.legend()"
   ]
  }
 ],
 "metadata": {
  "kernelspec": {
   "display_name": "Python 3 (ipykernel)",
   "language": "python",
   "name": "python3"
  },
  "language_info": {
   "codemirror_mode": {
    "name": "ipython",
    "version": 3
   },
   "file_extension": ".py",
   "mimetype": "text/x-python",
   "name": "python",
   "nbconvert_exporter": "python",
   "pygments_lexer": "ipython3",
   "version": "3.10.0"
  }
 },
 "nbformat": 4,
 "nbformat_minor": 5
}

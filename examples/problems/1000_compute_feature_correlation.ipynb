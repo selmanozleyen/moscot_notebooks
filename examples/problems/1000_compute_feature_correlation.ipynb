{
 "cells": [
  {
   "cell_type": "markdown",
   "metadata": {},
   "source": [
    "# Feature correlation\n",
    "\n",
    "In this example, we show how to use {func}`moscot.problems.time.TemporalProblem.compute_feature_correlation`."
   ]
  },
  {
   "cell_type": "code",
   "execution_count": 2,
   "metadata": {},
   "outputs": [],
   "source": [
    "%load_ext autoreload\n",
    "%autoreload 2"
   ]
  },
  {
   "cell_type": "markdown",
   "metadata": {},
   "source": [
    "## Preliminaries"
   ]
  },
  {
   "cell_type": "code",
   "execution_count": 7,
   "metadata": {},
   "outputs": [],
   "source": [
    "import warnings\n",
    "\n",
    "warnings.simplefilter(action=\"ignore\", category=FutureWarning)\n",
    "\n",
    "from moscot import datasets\n",
    "from moscot.problems.time import TemporalProblem"
   ]
  },
  {
   "cell_type": "markdown",
   "metadata": {},
   "source": [
    "Load the {func}`~moscot.datasets.hspc` dataset."
   ]
  },
  {
   "cell_type": "code",
   "execution_count": 4,
   "metadata": {},
   "outputs": [
    {
     "data": {
      "text/plain": [
       "AnnData object with n_obs × n_vars = 4000 × 2000\n",
       "    obs: 'day', 'donor', 'cell_type', 'technology', 'n_genes'\n",
       "    var: 'n_cells', 'highly_variable', 'means', 'dispersions', 'dispersions_norm'\n",
       "    uns: 'cell_type_colors', 'hvg', 'neighbors', 'neighbors_atac', 'pca', 'umap'\n",
       "    obsm: 'X_lsi', 'X_pca', 'X_umap_ATAC', 'X_umap_GEX', 'peaks_tfidf'\n",
       "    varm: 'PCs'\n",
       "    obsp: 'connectivities', 'distances', 'neighbors_atac_connectivities', 'neighbors_atac_distances'"
      ]
     },
     "execution_count": 4,
     "metadata": {},
     "output_type": "execute_result"
    }
   ],
   "source": [
    "adata = datasets.hspc()\n",
    "adata"
   ]
  },
  {
   "cell_type": "markdown",
   "metadata": {},
   "source": [
    "Create and solve the {class}`~moscot.problems.time.TemporalProblem`."
   ]
  },
  {
   "cell_type": "code",
   "execution_count": 5,
   "metadata": {},
   "outputs": [
    {
     "name": "stdout",
     "output_type": "stream",
     "text": [
      "\u001b[34mINFO    \u001b[0m Computing pca with `\u001b[33mn_comps\u001b[0m=\u001b[1;36m30\u001b[0m` for `xy` using `adata.X`                                                  \n",
      "\u001b[34mINFO    \u001b[0m Computing pca with `\u001b[33mn_comps\u001b[0m=\u001b[1;36m30\u001b[0m` for `xy` using `adata.X`                                                  \n",
      "\u001b[34mINFO    \u001b[0m Computing pca with `\u001b[33mn_comps\u001b[0m=\u001b[1;36m30\u001b[0m` for `xy` using `adata.X`                                                  \n",
      "\u001b[34mINFO    \u001b[0m Solving `\u001b[1;36m3\u001b[0m` problems                                                                                      \n",
      "\u001b[34mINFO    \u001b[0m Solving problem BirthDeathProblem\u001b[1m[\u001b[0m\u001b[33mstage\u001b[0m=\u001b[32m'prepared'\u001b[0m, \u001b[33mshape\u001b[0m=\u001b[1m(\u001b[0m\u001b[1;36m766\u001b[0m, \u001b[1;36m1235\u001b[0m\u001b[1m)\u001b[0m\u001b[1m]\u001b[0m.                                   \n",
      "\u001b[34mINFO    \u001b[0m Solving problem BirthDeathProblem\u001b[1m[\u001b[0m\u001b[33mstage\u001b[0m=\u001b[32m'prepared'\u001b[0m, \u001b[33mshape\u001b[0m=\u001b[1m(\u001b[0m\u001b[1;36m1235\u001b[0m, \u001b[1;36m1201\u001b[0m\u001b[1m)\u001b[0m\u001b[1m]\u001b[0m.                                  \n",
      "\u001b[34mINFO    \u001b[0m Solving problem BirthDeathProblem\u001b[1m[\u001b[0m\u001b[33mstage\u001b[0m=\u001b[32m'prepared'\u001b[0m, \u001b[33mshape\u001b[0m=\u001b[1m(\u001b[0m\u001b[1;36m1201\u001b[0m, \u001b[1;36m798\u001b[0m\u001b[1m)\u001b[0m\u001b[1m]\u001b[0m.                                   \n"
     ]
    }
   ],
   "source": [
    "tp = TemporalProblem(adata).prepare(time_key=\"day\").solve(epsilon=1e-2, threshold=1e-2)"
   ]
  },
  {
   "cell_type": "code",
   "execution_count": 6,
   "metadata": {},
   "outputs": [
    {
     "data": {
      "text/html": [
       "<div>\n",
       "<style scoped>\n",
       "    .dataframe tbody tr th:only-of-type {\n",
       "        vertical-align: middle;\n",
       "    }\n",
       "\n",
       "    .dataframe tbody tr th {\n",
       "        vertical-align: top;\n",
       "    }\n",
       "\n",
       "    .dataframe thead th {\n",
       "        text-align: right;\n",
       "    }\n",
       "</style>\n",
       "<table border=\"1\" class=\"dataframe\">\n",
       "  <thead>\n",
       "    <tr style=\"text-align: right;\">\n",
       "      <th></th>\n",
       "      <th>day_corr</th>\n",
       "      <th>day_pval</th>\n",
       "      <th>day_qval</th>\n",
       "      <th>day_ci_low</th>\n",
       "      <th>day_ci_high</th>\n",
       "    </tr>\n",
       "  </thead>\n",
       "  <tbody>\n",
       "    <tr>\n",
       "      <th>PPBP</th>\n",
       "      <td>0.719697</td>\n",
       "      <td>0.000000e+00</td>\n",
       "      <td>0.000000e+00</td>\n",
       "      <td>0.704418</td>\n",
       "      <td>0.734311</td>\n",
       "    </tr>\n",
       "    <tr>\n",
       "      <th>PF4</th>\n",
       "      <td>0.696777</td>\n",
       "      <td>0.000000e+00</td>\n",
       "      <td>0.000000e+00</td>\n",
       "      <td>0.680480</td>\n",
       "      <td>0.712385</td>\n",
       "    </tr>\n",
       "    <tr>\n",
       "      <th>PRG2</th>\n",
       "      <td>0.565685</td>\n",
       "      <td>0.000000e+00</td>\n",
       "      <td>0.000000e+00</td>\n",
       "      <td>0.544234</td>\n",
       "      <td>0.586396</td>\n",
       "    </tr>\n",
       "    <tr>\n",
       "      <th>SRGN</th>\n",
       "      <td>0.476405</td>\n",
       "      <td>1.608334e-235</td>\n",
       "      <td>5.361114e-233</td>\n",
       "      <td>0.452089</td>\n",
       "      <td>0.500014</td>\n",
       "    </tr>\n",
       "    <tr>\n",
       "      <th>RNASE2</th>\n",
       "      <td>0.472284</td>\n",
       "      <td>9.362029e-231</td>\n",
       "      <td>2.674865e-228</td>\n",
       "      <td>0.447847</td>\n",
       "      <td>0.496015</td>\n",
       "    </tr>\n",
       "    <tr>\n",
       "      <th>...</th>\n",
       "      <td>...</td>\n",
       "      <td>...</td>\n",
       "      <td>...</td>\n",
       "      <td>...</td>\n",
       "      <td>...</td>\n",
       "    </tr>\n",
       "    <tr>\n",
       "      <th>AVP</th>\n",
       "      <td>-0.364538</td>\n",
       "      <td>6.203952e-129</td>\n",
       "      <td>7.754940e-127</td>\n",
       "      <td>-0.391111</td>\n",
       "      <td>-0.337358</td>\n",
       "    </tr>\n",
       "    <tr>\n",
       "      <th>NKAIN2</th>\n",
       "      <td>-0.381232</td>\n",
       "      <td>3.830937e-142</td>\n",
       "      <td>5.893749e-140</td>\n",
       "      <td>-0.407410</td>\n",
       "      <td>-0.354428</td>\n",
       "    </tr>\n",
       "    <tr>\n",
       "      <th>CALN1</th>\n",
       "      <td>-0.388077</td>\n",
       "      <td>8.308373e-148</td>\n",
       "      <td>1.384729e-145</td>\n",
       "      <td>-0.414088</td>\n",
       "      <td>-0.361432</td>\n",
       "    </tr>\n",
       "    <tr>\n",
       "      <th>PRDX1</th>\n",
       "      <td>-0.525044</td>\n",
       "      <td>1.122457e-297</td>\n",
       "      <td>4.489827e-295</td>\n",
       "      <td>-0.547133</td>\n",
       "      <td>-0.502225</td>\n",
       "    </tr>\n",
       "    <tr>\n",
       "      <th>PTMA</th>\n",
       "      <td>-0.687016</td>\n",
       "      <td>0.000000e+00</td>\n",
       "      <td>0.000000e+00</td>\n",
       "      <td>-0.703039</td>\n",
       "      <td>-0.670296</td>\n",
       "    </tr>\n",
       "  </tbody>\n",
       "</table>\n",
       "<p>2000 rows × 5 columns</p>\n",
       "</div>"
      ],
      "text/plain": [
       "        day_corr       day_pval       day_qval  day_ci_low  day_ci_high\n",
       "PPBP    0.719697   0.000000e+00   0.000000e+00    0.704418     0.734311\n",
       "PF4     0.696777   0.000000e+00   0.000000e+00    0.680480     0.712385\n",
       "PRG2    0.565685   0.000000e+00   0.000000e+00    0.544234     0.586396\n",
       "SRGN    0.476405  1.608334e-235  5.361114e-233    0.452089     0.500014\n",
       "RNASE2  0.472284  9.362029e-231  2.674865e-228    0.447847     0.496015\n",
       "...          ...            ...            ...         ...          ...\n",
       "AVP    -0.364538  6.203952e-129  7.754940e-127   -0.391111    -0.337358\n",
       "NKAIN2 -0.381232  3.830937e-142  5.893749e-140   -0.407410    -0.354428\n",
       "CALN1  -0.388077  8.308373e-148  1.384729e-145   -0.414088    -0.361432\n",
       "PRDX1  -0.525044  1.122457e-297  4.489827e-295   -0.547133    -0.502225\n",
       "PTMA   -0.687016   0.000000e+00   0.000000e+00   -0.703039    -0.670296\n",
       "\n",
       "[2000 rows x 5 columns]"
      ]
     },
     "execution_count": 6,
     "metadata": {},
     "output_type": "execute_result"
    }
   ],
   "source": [
    "tp.compute_feature_correlation(\"day\")"
   ]
  },
  {
   "cell_type": "code",
   "execution_count": null,
   "metadata": {},
   "outputs": [],
   "source": []
  }
 ],
 "metadata": {
  "kernelspec": {
   "display_name": "moscot_dev",
   "language": "python",
   "name": "python3"
  },
  "language_info": {
   "codemirror_mode": {
    "name": "ipython",
    "version": 3
   },
   "file_extension": ".py",
   "mimetype": "text/x-python",
   "name": "python",
   "nbconvert_exporter": "python",
   "pygments_lexer": "ipython3",
   "version": "3.11.5"
  }
 },
 "nbformat": 4,
 "nbformat_minor": 2
}

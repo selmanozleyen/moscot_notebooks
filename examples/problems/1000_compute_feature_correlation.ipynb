{
 "cells": [
  {
   "cell_type": "markdown",
   "metadata": {},
   "source": [
    "# Feature correlation\n",
    "\n",
    "In this example, we show how to use {func}`moscot.problems.time.TemporalProblem.compute_feature_correlation`."
   ]
  },
  {
   "cell_type": "markdown",
   "metadata": {},
   "source": [
    "## Preliminaries"
   ]
  },
  {
   "cell_type": "code",
   "execution_count": 1,
   "metadata": {},
   "outputs": [],
   "source": [
    "import warnings\n",
    "\n",
    "warnings.simplefilter(action=\"ignore\", category=FutureWarning)\n",
    "\n",
    "from moscot import datasets\n",
    "from moscot.problems.spatiotemporal import SpatioTemporalProblem"
   ]
  },
  {
   "cell_type": "markdown",
   "metadata": {},
   "source": [
    "Load the {func}`~moscot.datasets.mosta` dataset."
   ]
  },
  {
   "cell_type": "code",
   "execution_count": 17,
   "metadata": {},
   "outputs": [
    {
     "name": "stderr",
     "output_type": "stream",
     "text": [
      "C:\\Users\\adwol\\AppData\\Local\\Temp\\ipykernel_30864\\4196925918.py:3: ImplicitModificationWarning: Trying to modify attribute `.obs` of view, initializing view as actual.\n",
      "  adata.obs[\"timepoint\"] = adata.obs[\"timepoint\"].str[1:].astype(\"float\").astype(\"category\")\n"
     ]
    },
    {
     "data": {
      "text/plain": [
       "AnnData object with n_obs × n_vars = 24162 × 2000\n",
       "    obs: 'annotation', 'timepoint', 'n_genes_by_counts', 'log1p_n_genes_by_counts', 'total_counts', 'log1p_total_counts', 'pct_counts_in_top_50_genes', 'pct_counts_in_top_100_genes', 'pct_counts_in_top_200_genes', 'pct_counts_in_top_500_genes', 'time', 'n_genes', 'total_counts_mt', 'pct_counts_mt', 'Heart_mapping', 'Heart_annotation'\n",
       "    var: 'n_cells_by_counts', 'mean_counts', 'log1p_mean_counts', 'pct_dropout_by_counts', 'total_counts', 'log1p_total_counts', 'n_cells', 'mt', 'highly_variable', 'highly_variable_rank', 'means', 'variances', 'variances_norm', 'highly_variable_nbatches'\n",
       "    uns: 'Heart_annotation_colors', 'annotation_colors', 'hvg', 'moscot_results'\n",
       "    obsm: 'spatial'\n",
       "    layers: 'count'"
      ]
     },
     "execution_count": 17,
     "metadata": {},
     "output_type": "execute_result"
    }
   ],
   "source": [
    "adata = datasets.mosta()\n",
    "adata = adata[(adata.obs[\"timepoint\"] == \"E9.5\") | (adata.obs[\"timepoint\"] == \"E10.5\")]\n",
    "adata.obs[\"timepoint\"] = (\n",
    "    adata.obs[\"timepoint\"].str[1:].astype(\"float\").astype(\"category\")\n",
    ")\n",
    "adata"
   ]
  },
  {
   "cell_type": "markdown",
   "metadata": {},
   "source": [
    "Create and solve the {class}`~moscot.problems.spatiotemporal.SpatioTemporalProblem`."
   ]
  },
  {
   "cell_type": "code",
   "execution_count": 19,
   "metadata": {},
   "outputs": [
    {
     "name": "stdout",
     "output_type": "stream",
     "text": [
      "\u001b[34mINFO    \u001b[0m Computing pca with `\u001b[33mn_comps\u001b[0m=\u001b[1;36m30\u001b[0m` for `xy` using `adata.X`                                                  \n",
      "\u001b[34mINFO    \u001b[0m Normalizing spatial coordinates of `x`.                                                                   \n",
      "\u001b[34mINFO    \u001b[0m Normalizing spatial coordinates of `y`.                                                                   \n",
      "\u001b[34mINFO    \u001b[0m Solving `\u001b[1;36m1\u001b[0m` problems                                                                                      \n",
      "\u001b[34mINFO    \u001b[0m Solving problem BirthDeathProblem\u001b[1m[\u001b[0m\u001b[33mstage\u001b[0m=\u001b[32m'prepared'\u001b[0m, \u001b[33mshape\u001b[0m=\u001b[1m(\u001b[0m\u001b[1;36m5870\u001b[0m, \u001b[1;36m18292\u001b[0m\u001b[1m)\u001b[0m\u001b[1m]\u001b[0m.                                 \n",
      "\u001b[31mWARNING \u001b[0m Solver did not converge                                                                                   \n"
     ]
    }
   ],
   "source": [
    "stp = (\n",
    "    SpatioTemporalProblem(adata)\n",
    "    .prepare(time_key=\"timepoint\", spatial_key=\"spatial\")\n",
    "    .solve(alpha=0.5, epsilon=1e-2, rank=500)\n",
    ")"
   ]
  },
  {
   "cell_type": "code",
   "execution_count": 20,
   "metadata": {},
   "outputs": [
    {
     "data": {
      "text/html": [
       "<div>\n",
       "<style scoped>\n",
       "    .dataframe tbody tr th:only-of-type {\n",
       "        vertical-align: middle;\n",
       "    }\n",
       "\n",
       "    .dataframe tbody tr th {\n",
       "        vertical-align: top;\n",
       "    }\n",
       "\n",
       "    .dataframe thead th {\n",
       "        text-align: right;\n",
       "    }\n",
       "</style>\n",
       "<table border=\"1\" class=\"dataframe\">\n",
       "  <thead>\n",
       "    <tr style=\"text-align: right;\">\n",
       "      <th></th>\n",
       "      <th>timepoint_corr</th>\n",
       "      <th>timepoint_pval</th>\n",
       "      <th>timepoint_qval</th>\n",
       "      <th>timepoint_ci_low</th>\n",
       "      <th>timepoint_ci_high</th>\n",
       "    </tr>\n",
       "  </thead>\n",
       "  <tbody>\n",
       "    <tr>\n",
       "      <th>Hba-x</th>\n",
       "      <td>0.729827</td>\n",
       "      <td>0.0</td>\n",
       "      <td>0.0</td>\n",
       "      <td>0.723879</td>\n",
       "      <td>0.735666</td>\n",
       "    </tr>\n",
       "    <tr>\n",
       "      <th>Marcksl1</th>\n",
       "      <td>0.650324</td>\n",
       "      <td>0.0</td>\n",
       "      <td>0.0</td>\n",
       "      <td>0.642987</td>\n",
       "      <td>0.657541</td>\n",
       "    </tr>\n",
       "    <tr>\n",
       "      <th>Ckb</th>\n",
       "      <td>0.621276</td>\n",
       "      <td>0.0</td>\n",
       "      <td>0.0</td>\n",
       "      <td>0.613473</td>\n",
       "      <td>0.628958</td>\n",
       "    </tr>\n",
       "    <tr>\n",
       "      <th>Stmn3</th>\n",
       "      <td>0.599778</td>\n",
       "      <td>0.0</td>\n",
       "      <td>0.0</td>\n",
       "      <td>0.591643</td>\n",
       "      <td>0.607790</td>\n",
       "    </tr>\n",
       "    <tr>\n",
       "      <th>Tubb3</th>\n",
       "      <td>0.546550</td>\n",
       "      <td>0.0</td>\n",
       "      <td>0.0</td>\n",
       "      <td>0.537646</td>\n",
       "      <td>0.555332</td>\n",
       "    </tr>\n",
       "    <tr>\n",
       "      <th>...</th>\n",
       "      <td>...</td>\n",
       "      <td>...</td>\n",
       "      <td>...</td>\n",
       "      <td>...</td>\n",
       "      <td>...</td>\n",
       "    </tr>\n",
       "    <tr>\n",
       "      <th>Basp1</th>\n",
       "      <td>-0.324499</td>\n",
       "      <td>0.0</td>\n",
       "      <td>0.0</td>\n",
       "      <td>-0.335735</td>\n",
       "      <td>-0.313172</td>\n",
       "    </tr>\n",
       "    <tr>\n",
       "      <th>Ube2c</th>\n",
       "      <td>-0.348375</td>\n",
       "      <td>0.0</td>\n",
       "      <td>0.0</td>\n",
       "      <td>-0.359405</td>\n",
       "      <td>-0.337247</td>\n",
       "    </tr>\n",
       "    <tr>\n",
       "      <th>Igfbp5</th>\n",
       "      <td>-0.359259</td>\n",
       "      <td>0.0</td>\n",
       "      <td>0.0</td>\n",
       "      <td>-0.370191</td>\n",
       "      <td>-0.348227</td>\n",
       "    </tr>\n",
       "    <tr>\n",
       "      <th>Mest</th>\n",
       "      <td>-0.412677</td>\n",
       "      <td>0.0</td>\n",
       "      <td>0.0</td>\n",
       "      <td>-0.423085</td>\n",
       "      <td>-0.402161</td>\n",
       "    </tr>\n",
       "    <tr>\n",
       "      <th>Peg10</th>\n",
       "      <td>-0.466857</td>\n",
       "      <td>0.0</td>\n",
       "      <td>0.0</td>\n",
       "      <td>-0.476660</td>\n",
       "      <td>-0.456938</td>\n",
       "    </tr>\n",
       "  </tbody>\n",
       "</table>\n",
       "<p>2000 rows × 5 columns</p>\n",
       "</div>"
      ],
      "text/plain": [
       "          timepoint_corr  timepoint_pval  timepoint_qval  timepoint_ci_low  \\\n",
       "Hba-x           0.729827             0.0             0.0          0.723879   \n",
       "Marcksl1        0.650324             0.0             0.0          0.642987   \n",
       "Ckb             0.621276             0.0             0.0          0.613473   \n",
       "Stmn3           0.599778             0.0             0.0          0.591643   \n",
       "Tubb3           0.546550             0.0             0.0          0.537646   \n",
       "...                  ...             ...             ...               ...   \n",
       "Basp1          -0.324499             0.0             0.0         -0.335735   \n",
       "Ube2c          -0.348375             0.0             0.0         -0.359405   \n",
       "Igfbp5         -0.359259             0.0             0.0         -0.370191   \n",
       "Mest           -0.412677             0.0             0.0         -0.423085   \n",
       "Peg10          -0.466857             0.0             0.0         -0.476660   \n",
       "\n",
       "          timepoint_ci_high  \n",
       "Hba-x              0.735666  \n",
       "Marcksl1           0.657541  \n",
       "Ckb                0.628958  \n",
       "Stmn3              0.607790  \n",
       "Tubb3              0.555332  \n",
       "...                     ...  \n",
       "Basp1             -0.313172  \n",
       "Ube2c             -0.337247  \n",
       "Igfbp5            -0.348227  \n",
       "Mest              -0.402161  \n",
       "Peg10             -0.456938  \n",
       "\n",
       "[2000 rows x 5 columns]"
      ]
     },
     "execution_count": 20,
     "metadata": {},
     "output_type": "execute_result"
    }
   ],
   "source": [
    "stp.compute_feature_correlation(\"timepoint\")"
   ]
  },
  {
   "cell_type": "code",
   "execution_count": null,
   "metadata": {},
   "outputs": [],
   "source": []
  }
 ],
 "metadata": {
  "kernelspec": {
   "display_name": "moscot_dev",
   "language": "python",
   "name": "python3"
  },
  "language_info": {
   "codemirror_mode": {
    "name": "ipython",
    "version": 3
   },
   "file_extension": ".py",
   "mimetype": "text/x-python",
   "name": "python",
   "nbconvert_exporter": "python",
   "pygments_lexer": "ipython3",
   "version": "3.11.5"
  }
 },
 "nbformat": 4,
 "nbformat_minor": 2
}
